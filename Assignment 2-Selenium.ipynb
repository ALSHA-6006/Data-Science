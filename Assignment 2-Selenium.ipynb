{
 "cells": [
  {
   "cell_type": "markdown",
   "id": "62125316",
   "metadata": {},
   "source": [
    "Question 1"
   ]
  },
  {
   "cell_type": "code",
   "execution_count": 137,
   "id": "5b7a666c",
   "metadata": {},
   "outputs": [
    {
     "name": "stdout",
     "output_type": "stream",
     "text": [
      "Requirement already satisfied: selenium in c:\\users\\alsha mohammed\\anaconda3\\lib\\site-packages (4.18.1)\n",
      "Requirement already satisfied: urllib3[socks]<3,>=1.26 in c:\\users\\alsha mohammed\\anaconda3\\lib\\site-packages (from selenium) (1.26.16)\n",
      "Requirement already satisfied: trio~=0.17 in c:\\users\\alsha mohammed\\anaconda3\\lib\\site-packages (from selenium) (0.24.0)\n",
      "Requirement already satisfied: trio-websocket~=0.9 in c:\\users\\alsha mohammed\\anaconda3\\lib\\site-packages (from selenium) (0.11.1)\n",
      "Requirement already satisfied: certifi>=2021.10.8 in c:\\users\\alsha mohammed\\anaconda3\\lib\\site-packages (from selenium) (2023.5.7)\n",
      "Requirement already satisfied: typing_extensions>=4.9.0 in c:\\users\\alsha mohammed\\anaconda3\\lib\\site-packages (from selenium) (4.10.0)\n",
      "Requirement already satisfied: attrs>=20.1.0 in c:\\users\\alsha mohammed\\anaconda3\\lib\\site-packages (from trio~=0.17->selenium) (22.1.0)\n",
      "Requirement already satisfied: sortedcontainers in c:\\users\\alsha mohammed\\anaconda3\\lib\\site-packages (from trio~=0.17->selenium) (2.4.0)\n",
      "Requirement already satisfied: idna in c:\\users\\alsha mohammed\\anaconda3\\lib\\site-packages (from trio~=0.17->selenium) (3.4)\n",
      "Requirement already satisfied: outcome in c:\\users\\alsha mohammed\\anaconda3\\lib\\site-packages (from trio~=0.17->selenium) (1.3.0.post0)\n",
      "Requirement already satisfied: sniffio>=1.3.0 in c:\\users\\alsha mohammed\\anaconda3\\lib\\site-packages (from trio~=0.17->selenium) (1.3.1)\n",
      "Requirement already satisfied: cffi>=1.14 in c:\\users\\alsha mohammed\\anaconda3\\lib\\site-packages (from trio~=0.17->selenium) (1.15.1)\n",
      "Requirement already satisfied: wsproto>=0.14 in c:\\users\\alsha mohammed\\anaconda3\\lib\\site-packages (from trio-websocket~=0.9->selenium) (1.2.0)\n",
      "Requirement already satisfied: PySocks!=1.5.7,<2.0,>=1.5.6 in c:\\users\\alsha mohammed\\anaconda3\\lib\\site-packages (from urllib3[socks]<3,>=1.26->selenium) (1.7.1)\n",
      "Requirement already satisfied: pycparser in c:\\users\\alsha mohammed\\anaconda3\\lib\\site-packages (from cffi>=1.14->trio~=0.17->selenium) (2.21)\n",
      "Requirement already satisfied: h11<1,>=0.9.0 in c:\\users\\alsha mohammed\\anaconda3\\lib\\site-packages (from wsproto>=0.14->trio-websocket~=0.9->selenium) (0.14.0)\n"
     ]
    }
   ],
   "source": [
    "!pip install selenium"
   ]
  },
  {
   "cell_type": "code",
   "execution_count": 138,
   "id": "2cf183eb",
   "metadata": {},
   "outputs": [],
   "source": [
    "import pandas as pd\n",
    "import selenium\n",
    "from selenium import webdriver\n",
    "import warnings\n",
    "warnings.filterwarnings('ignore')\n",
    "from selenium.webdriver.common.by import By\n",
    "import time"
   ]
  },
  {
   "cell_type": "code",
   "execution_count": 233,
   "id": "e908fed3",
   "metadata": {},
   "outputs": [],
   "source": [
    "driver=webdriver.Chrome()"
   ]
  },
  {
   "cell_type": "code",
   "execution_count": 234,
   "id": "74b37386",
   "metadata": {},
   "outputs": [],
   "source": [
    "driver.get('https://www.naukri.com/')"
   ]
  },
  {
   "cell_type": "code",
   "execution_count": 235,
   "id": "1170c86d",
   "metadata": {},
   "outputs": [],
   "source": [
    "designation=driver.find_element(By.CLASS_NAME,'suggestor-input')\n",
    "designation.send_keys('Data Scientist')"
   ]
  },
  {
   "cell_type": "code",
   "execution_count": 236,
   "id": "bfcfb651",
   "metadata": {},
   "outputs": [],
   "source": [
    "search=driver.find_element(By.CLASS_NAME,\"qsbSubmit\")\n",
    "search.click()"
   ]
  },
  {
   "cell_type": "code",
   "execution_count": 237,
   "id": "0723ac24",
   "metadata": {},
   "outputs": [],
   "source": [
    "location_filter=driver.find_element(By.CLASS_NAME,'styles_filterHeading___hZQx')\n",
    "location_filter.click()"
   ]
  },
  {
   "cell_type": "code",
   "execution_count": 240,
   "id": "9e5c3b96",
   "metadata": {},
   "outputs": [
    {
     "ename": "NoSuchElementException",
     "evalue": "Message: no such element: Unable to locate element: {\"method\":\"xpath\",\"selector\":\"//div[@class=\"styles_ellipsis__cvWP1 styles_filterLabel__jRP04\"]\"}\n  (Session info: chrome=122.0.6261.129); For documentation on this error, please visit: https://www.selenium.dev/documentation/webdriver/troubleshooting/errors#no-such-element-exception\nStacktrace:\n\tGetHandleVerifier [0x00007FF71DCFAD02+56930]\n\t(No symbol) [0x00007FF71DC6F602]\n\t(No symbol) [0x00007FF71DB242E5]\n\t(No symbol) [0x00007FF71DB698ED]\n\t(No symbol) [0x00007FF71DB69A2C]\n\t(No symbol) [0x00007FF71DBAA967]\n\t(No symbol) [0x00007FF71DB8BCDF]\n\t(No symbol) [0x00007FF71DBA81E2]\n\t(No symbol) [0x00007FF71DB8BA43]\n\t(No symbol) [0x00007FF71DB5D438]\n\t(No symbol) [0x00007FF71DB5E4D1]\n\tGetHandleVerifier [0x00007FF71E076F8D+3711213]\n\tGetHandleVerifier [0x00007FF71E0D04CD+4077101]\n\tGetHandleVerifier [0x00007FF71E0C865F+4044735]\n\tGetHandleVerifier [0x00007FF71DD99736+706710]\n\t(No symbol) [0x00007FF71DC7B8DF]\n\t(No symbol) [0x00007FF71DC76AC4]\n\t(No symbol) [0x00007FF71DC76C1C]\n\t(No symbol) [0x00007FF71DC668D4]\n\tBaseThreadInitThunk [0x00007FFCD46C257D+29]\n\tRtlUserThreadStart [0x00007FFCD616AA58+40]\n",
     "output_type": "error",
     "traceback": [
      "\u001b[1;31m---------------------------------------------------------------------------\u001b[0m",
      "\u001b[1;31mNoSuchElementException\u001b[0m                    Traceback (most recent call last)",
      "Cell \u001b[1;32mIn[240], line 1\u001b[0m\n\u001b[1;32m----> 1\u001b[0m Delhi_NCR_option\u001b[38;5;241m=\u001b[39mdriver\u001b[38;5;241m.\u001b[39mfind_element(By\u001b[38;5;241m.\u001b[39mXPATH,\u001b[38;5;124m'\u001b[39m\u001b[38;5;124m//div[@class=\u001b[39m\u001b[38;5;124m\"\u001b[39m\u001b[38;5;124mstyles_ellipsis__cvWP1 styles_filterLabel__jRP04\u001b[39m\u001b[38;5;124m\"\u001b[39m\u001b[38;5;124m]\u001b[39m\u001b[38;5;124m'\u001b[39m)\n\u001b[0;32m      2\u001b[0m Delhi_NCR_option\u001b[38;5;241m.\u001b[39mclick()\n",
      "File \u001b[1;32m~\\anaconda3\\Lib\\site-packages\\selenium\\webdriver\\remote\\webdriver.py:741\u001b[0m, in \u001b[0;36mWebDriver.find_element\u001b[1;34m(self, by, value)\u001b[0m\n\u001b[0;32m    738\u001b[0m     by \u001b[38;5;241m=\u001b[39m By\u001b[38;5;241m.\u001b[39mCSS_SELECTOR\n\u001b[0;32m    739\u001b[0m     value \u001b[38;5;241m=\u001b[39m \u001b[38;5;124mf\u001b[39m\u001b[38;5;124m'\u001b[39m\u001b[38;5;124m[name=\u001b[39m\u001b[38;5;124m\"\u001b[39m\u001b[38;5;132;01m{\u001b[39;00mvalue\u001b[38;5;132;01m}\u001b[39;00m\u001b[38;5;124m\"\u001b[39m\u001b[38;5;124m]\u001b[39m\u001b[38;5;124m'\u001b[39m\n\u001b[1;32m--> 741\u001b[0m \u001b[38;5;28;01mreturn\u001b[39;00m \u001b[38;5;28mself\u001b[39m\u001b[38;5;241m.\u001b[39mexecute(Command\u001b[38;5;241m.\u001b[39mFIND_ELEMENT, {\u001b[38;5;124m\"\u001b[39m\u001b[38;5;124musing\u001b[39m\u001b[38;5;124m\"\u001b[39m: by, \u001b[38;5;124m\"\u001b[39m\u001b[38;5;124mvalue\u001b[39m\u001b[38;5;124m\"\u001b[39m: value})[\u001b[38;5;124m\"\u001b[39m\u001b[38;5;124mvalue\u001b[39m\u001b[38;5;124m\"\u001b[39m]\n",
      "File \u001b[1;32m~\\anaconda3\\Lib\\site-packages\\selenium\\webdriver\\remote\\webdriver.py:347\u001b[0m, in \u001b[0;36mWebDriver.execute\u001b[1;34m(self, driver_command, params)\u001b[0m\n\u001b[0;32m    345\u001b[0m response \u001b[38;5;241m=\u001b[39m \u001b[38;5;28mself\u001b[39m\u001b[38;5;241m.\u001b[39mcommand_executor\u001b[38;5;241m.\u001b[39mexecute(driver_command, params)\n\u001b[0;32m    346\u001b[0m \u001b[38;5;28;01mif\u001b[39;00m response:\n\u001b[1;32m--> 347\u001b[0m     \u001b[38;5;28mself\u001b[39m\u001b[38;5;241m.\u001b[39merror_handler\u001b[38;5;241m.\u001b[39mcheck_response(response)\n\u001b[0;32m    348\u001b[0m     response[\u001b[38;5;124m\"\u001b[39m\u001b[38;5;124mvalue\u001b[39m\u001b[38;5;124m\"\u001b[39m] \u001b[38;5;241m=\u001b[39m \u001b[38;5;28mself\u001b[39m\u001b[38;5;241m.\u001b[39m_unwrap_value(response\u001b[38;5;241m.\u001b[39mget(\u001b[38;5;124m\"\u001b[39m\u001b[38;5;124mvalue\u001b[39m\u001b[38;5;124m\"\u001b[39m, \u001b[38;5;28;01mNone\u001b[39;00m))\n\u001b[0;32m    349\u001b[0m     \u001b[38;5;28;01mreturn\u001b[39;00m response\n",
      "File \u001b[1;32m~\\anaconda3\\Lib\\site-packages\\selenium\\webdriver\\remote\\errorhandler.py:229\u001b[0m, in \u001b[0;36mErrorHandler.check_response\u001b[1;34m(self, response)\u001b[0m\n\u001b[0;32m    227\u001b[0m         alert_text \u001b[38;5;241m=\u001b[39m value[\u001b[38;5;124m\"\u001b[39m\u001b[38;5;124malert\u001b[39m\u001b[38;5;124m\"\u001b[39m]\u001b[38;5;241m.\u001b[39mget(\u001b[38;5;124m\"\u001b[39m\u001b[38;5;124mtext\u001b[39m\u001b[38;5;124m\"\u001b[39m)\n\u001b[0;32m    228\u001b[0m     \u001b[38;5;28;01mraise\u001b[39;00m exception_class(message, screen, stacktrace, alert_text)  \u001b[38;5;66;03m# type: ignore[call-arg]  # mypy is not smart enough here\u001b[39;00m\n\u001b[1;32m--> 229\u001b[0m \u001b[38;5;28;01mraise\u001b[39;00m exception_class(message, screen, stacktrace)\n",
      "\u001b[1;31mNoSuchElementException\u001b[0m: Message: no such element: Unable to locate element: {\"method\":\"xpath\",\"selector\":\"//div[@class=\"styles_ellipsis__cvWP1 styles_filterLabel__jRP04\"]\"}\n  (Session info: chrome=122.0.6261.129); For documentation on this error, please visit: https://www.selenium.dev/documentation/webdriver/troubleshooting/errors#no-such-element-exception\nStacktrace:\n\tGetHandleVerifier [0x00007FF71DCFAD02+56930]\n\t(No symbol) [0x00007FF71DC6F602]\n\t(No symbol) [0x00007FF71DB242E5]\n\t(No symbol) [0x00007FF71DB698ED]\n\t(No symbol) [0x00007FF71DB69A2C]\n\t(No symbol) [0x00007FF71DBAA967]\n\t(No symbol) [0x00007FF71DB8BCDF]\n\t(No symbol) [0x00007FF71DBA81E2]\n\t(No symbol) [0x00007FF71DB8BA43]\n\t(No symbol) [0x00007FF71DB5D438]\n\t(No symbol) [0x00007FF71DB5E4D1]\n\tGetHandleVerifier [0x00007FF71E076F8D+3711213]\n\tGetHandleVerifier [0x00007FF71E0D04CD+4077101]\n\tGetHandleVerifier [0x00007FF71E0C865F+4044735]\n\tGetHandleVerifier [0x00007FF71DD99736+706710]\n\t(No symbol) [0x00007FF71DC7B8DF]\n\t(No symbol) [0x00007FF71DC76AC4]\n\t(No symbol) [0x00007FF71DC76C1C]\n\t(No symbol) [0x00007FF71DC668D4]\n\tBaseThreadInitThunk [0x00007FFCD46C257D+29]\n\tRtlUserThreadStart [0x00007FFCD616AA58+40]\n"
     ]
    }
   ],
   "source": [
    "Delhi_NCR_option=driver.find_element(By.XPATH,'//div[@class=\"styles_ellipsis__cvWP1 styles_filterLabel__jRP04\"]')\n",
    "Delhi_NCR_option.click()"
   ]
  },
  {
   "cell_type": "code",
   "execution_count": 226,
   "id": "69947845",
   "metadata": {},
   "outputs": [
    {
     "ename": "NoSuchElementException",
     "evalue": "Message: no such element: Unable to locate element: {\"method\":\"xpath\",\"selector\":\"//div[@class=\"styles_filterHeading___hZQx\"]\"}\n  (Session info: chrome=122.0.6261.129); For documentation on this error, please visit: https://www.selenium.dev/documentation/webdriver/troubleshooting/errors#no-such-element-exception\nStacktrace:\n\tGetHandleVerifier [0x00007FF71DCFAD02+56930]\n\t(No symbol) [0x00007FF71DC6F602]\n\t(No symbol) [0x00007FF71DB242E5]\n\t(No symbol) [0x00007FF71DB698ED]\n\t(No symbol) [0x00007FF71DB69A2C]\n\t(No symbol) [0x00007FF71DBAA967]\n\t(No symbol) [0x00007FF71DB8BCDF]\n\t(No symbol) [0x00007FF71DBA81E2]\n\t(No symbol) [0x00007FF71DB8BA43]\n\t(No symbol) [0x00007FF71DB5D438]\n\t(No symbol) [0x00007FF71DB5E4D1]\n\tGetHandleVerifier [0x00007FF71E076F8D+3711213]\n\tGetHandleVerifier [0x00007FF71E0D04CD+4077101]\n\tGetHandleVerifier [0x00007FF71E0C865F+4044735]\n\tGetHandleVerifier [0x00007FF71DD99736+706710]\n\t(No symbol) [0x00007FF71DC7B8DF]\n\t(No symbol) [0x00007FF71DC76AC4]\n\t(No symbol) [0x00007FF71DC76C1C]\n\t(No symbol) [0x00007FF71DC668D4]\n\tBaseThreadInitThunk [0x00007FFCD46C257D+29]\n\tRtlUserThreadStart [0x00007FFCD616AA58+40]\n",
     "output_type": "error",
     "traceback": [
      "\u001b[1;31m---------------------------------------------------------------------------\u001b[0m",
      "\u001b[1;31mNoSuchElementException\u001b[0m                    Traceback (most recent call last)",
      "Cell \u001b[1;32mIn[226], line 1\u001b[0m\n\u001b[1;32m----> 1\u001b[0m salary_filter\u001b[38;5;241m=\u001b[39mdriver\u001b[38;5;241m.\u001b[39mfind_element(By\u001b[38;5;241m.\u001b[39mXPATH,\u001b[38;5;124m'\u001b[39m\u001b[38;5;124m//div[@class=\u001b[39m\u001b[38;5;124m\"\u001b[39m\u001b[38;5;124mstyles_filterHeading___hZQx\u001b[39m\u001b[38;5;124m\"\u001b[39m\u001b[38;5;124m]\u001b[39m\u001b[38;5;124m'\u001b[39m)\n\u001b[0;32m      2\u001b[0m salary_filter\u001b[38;5;241m.\u001b[39mclick()\n",
      "File \u001b[1;32m~\\anaconda3\\Lib\\site-packages\\selenium\\webdriver\\remote\\webdriver.py:741\u001b[0m, in \u001b[0;36mWebDriver.find_element\u001b[1;34m(self, by, value)\u001b[0m\n\u001b[0;32m    738\u001b[0m     by \u001b[38;5;241m=\u001b[39m By\u001b[38;5;241m.\u001b[39mCSS_SELECTOR\n\u001b[0;32m    739\u001b[0m     value \u001b[38;5;241m=\u001b[39m \u001b[38;5;124mf\u001b[39m\u001b[38;5;124m'\u001b[39m\u001b[38;5;124m[name=\u001b[39m\u001b[38;5;124m\"\u001b[39m\u001b[38;5;132;01m{\u001b[39;00mvalue\u001b[38;5;132;01m}\u001b[39;00m\u001b[38;5;124m\"\u001b[39m\u001b[38;5;124m]\u001b[39m\u001b[38;5;124m'\u001b[39m\n\u001b[1;32m--> 741\u001b[0m \u001b[38;5;28;01mreturn\u001b[39;00m \u001b[38;5;28mself\u001b[39m\u001b[38;5;241m.\u001b[39mexecute(Command\u001b[38;5;241m.\u001b[39mFIND_ELEMENT, {\u001b[38;5;124m\"\u001b[39m\u001b[38;5;124musing\u001b[39m\u001b[38;5;124m\"\u001b[39m: by, \u001b[38;5;124m\"\u001b[39m\u001b[38;5;124mvalue\u001b[39m\u001b[38;5;124m\"\u001b[39m: value})[\u001b[38;5;124m\"\u001b[39m\u001b[38;5;124mvalue\u001b[39m\u001b[38;5;124m\"\u001b[39m]\n",
      "File \u001b[1;32m~\\anaconda3\\Lib\\site-packages\\selenium\\webdriver\\remote\\webdriver.py:347\u001b[0m, in \u001b[0;36mWebDriver.execute\u001b[1;34m(self, driver_command, params)\u001b[0m\n\u001b[0;32m    345\u001b[0m response \u001b[38;5;241m=\u001b[39m \u001b[38;5;28mself\u001b[39m\u001b[38;5;241m.\u001b[39mcommand_executor\u001b[38;5;241m.\u001b[39mexecute(driver_command, params)\n\u001b[0;32m    346\u001b[0m \u001b[38;5;28;01mif\u001b[39;00m response:\n\u001b[1;32m--> 347\u001b[0m     \u001b[38;5;28mself\u001b[39m\u001b[38;5;241m.\u001b[39merror_handler\u001b[38;5;241m.\u001b[39mcheck_response(response)\n\u001b[0;32m    348\u001b[0m     response[\u001b[38;5;124m\"\u001b[39m\u001b[38;5;124mvalue\u001b[39m\u001b[38;5;124m\"\u001b[39m] \u001b[38;5;241m=\u001b[39m \u001b[38;5;28mself\u001b[39m\u001b[38;5;241m.\u001b[39m_unwrap_value(response\u001b[38;5;241m.\u001b[39mget(\u001b[38;5;124m\"\u001b[39m\u001b[38;5;124mvalue\u001b[39m\u001b[38;5;124m\"\u001b[39m, \u001b[38;5;28;01mNone\u001b[39;00m))\n\u001b[0;32m    349\u001b[0m     \u001b[38;5;28;01mreturn\u001b[39;00m response\n",
      "File \u001b[1;32m~\\anaconda3\\Lib\\site-packages\\selenium\\webdriver\\remote\\errorhandler.py:229\u001b[0m, in \u001b[0;36mErrorHandler.check_response\u001b[1;34m(self, response)\u001b[0m\n\u001b[0;32m    227\u001b[0m         alert_text \u001b[38;5;241m=\u001b[39m value[\u001b[38;5;124m\"\u001b[39m\u001b[38;5;124malert\u001b[39m\u001b[38;5;124m\"\u001b[39m]\u001b[38;5;241m.\u001b[39mget(\u001b[38;5;124m\"\u001b[39m\u001b[38;5;124mtext\u001b[39m\u001b[38;5;124m\"\u001b[39m)\n\u001b[0;32m    228\u001b[0m     \u001b[38;5;28;01mraise\u001b[39;00m exception_class(message, screen, stacktrace, alert_text)  \u001b[38;5;66;03m# type: ignore[call-arg]  # mypy is not smart enough here\u001b[39;00m\n\u001b[1;32m--> 229\u001b[0m \u001b[38;5;28;01mraise\u001b[39;00m exception_class(message, screen, stacktrace)\n",
      "\u001b[1;31mNoSuchElementException\u001b[0m: Message: no such element: Unable to locate element: {\"method\":\"xpath\",\"selector\":\"//div[@class=\"styles_filterHeading___hZQx\"]\"}\n  (Session info: chrome=122.0.6261.129); For documentation on this error, please visit: https://www.selenium.dev/documentation/webdriver/troubleshooting/errors#no-such-element-exception\nStacktrace:\n\tGetHandleVerifier [0x00007FF71DCFAD02+56930]\n\t(No symbol) [0x00007FF71DC6F602]\n\t(No symbol) [0x00007FF71DB242E5]\n\t(No symbol) [0x00007FF71DB698ED]\n\t(No symbol) [0x00007FF71DB69A2C]\n\t(No symbol) [0x00007FF71DBAA967]\n\t(No symbol) [0x00007FF71DB8BCDF]\n\t(No symbol) [0x00007FF71DBA81E2]\n\t(No symbol) [0x00007FF71DB8BA43]\n\t(No symbol) [0x00007FF71DB5D438]\n\t(No symbol) [0x00007FF71DB5E4D1]\n\tGetHandleVerifier [0x00007FF71E076F8D+3711213]\n\tGetHandleVerifier [0x00007FF71E0D04CD+4077101]\n\tGetHandleVerifier [0x00007FF71E0C865F+4044735]\n\tGetHandleVerifier [0x00007FF71DD99736+706710]\n\t(No symbol) [0x00007FF71DC7B8DF]\n\t(No symbol) [0x00007FF71DC76AC4]\n\t(No symbol) [0x00007FF71DC76C1C]\n\t(No symbol) [0x00007FF71DC668D4]\n\tBaseThreadInitThunk [0x00007FFCD46C257D+29]\n\tRtlUserThreadStart [0x00007FFCD616AA58+40]\n"
     ]
    }
   ],
   "source": [
    "salary_filter=driver.find_element(By.XPATH,'//div[@class=\"styles_filterHeading___hZQx\"]')\n",
    "salary_filter.click()"
   ]
  },
  {
   "cell_type": "code",
   "execution_count": 227,
   "id": "b867490d",
   "metadata": {},
   "outputs": [
    {
     "ename": "NoSuchElementException",
     "evalue": "Message: no such element: Unable to locate element: {\"method\":\"xpath\",\"selector\":\"//div[@class=\"styles_chckBoxCont__t_dRs\"]\"}\n  (Session info: chrome=122.0.6261.129); For documentation on this error, please visit: https://www.selenium.dev/documentation/webdriver/troubleshooting/errors#no-such-element-exception\nStacktrace:\n\tGetHandleVerifier [0x00007FF71DCFAD02+56930]\n\t(No symbol) [0x00007FF71DC6F602]\n\t(No symbol) [0x00007FF71DB242E5]\n\t(No symbol) [0x00007FF71DB698ED]\n\t(No symbol) [0x00007FF71DB69A2C]\n\t(No symbol) [0x00007FF71DBAA967]\n\t(No symbol) [0x00007FF71DB8BCDF]\n\t(No symbol) [0x00007FF71DBA81E2]\n\t(No symbol) [0x00007FF71DB8BA43]\n\t(No symbol) [0x00007FF71DB5D438]\n\t(No symbol) [0x00007FF71DB5E4D1]\n\tGetHandleVerifier [0x00007FF71E076F8D+3711213]\n\tGetHandleVerifier [0x00007FF71E0D04CD+4077101]\n\tGetHandleVerifier [0x00007FF71E0C865F+4044735]\n\tGetHandleVerifier [0x00007FF71DD99736+706710]\n\t(No symbol) [0x00007FF71DC7B8DF]\n\t(No symbol) [0x00007FF71DC76AC4]\n\t(No symbol) [0x00007FF71DC76C1C]\n\t(No symbol) [0x00007FF71DC668D4]\n\tBaseThreadInitThunk [0x00007FFCD46C257D+29]\n\tRtlUserThreadStart [0x00007FFCD616AA58+40]\n",
     "output_type": "error",
     "traceback": [
      "\u001b[1;31m---------------------------------------------------------------------------\u001b[0m",
      "\u001b[1;31mNoSuchElementException\u001b[0m                    Traceback (most recent call last)",
      "Cell \u001b[1;32mIn[227], line 1\u001b[0m\n\u001b[1;32m----> 1\u001b[0m _3_6_Lakhs_option\u001b[38;5;241m=\u001b[39mdriver\u001b[38;5;241m.\u001b[39mfind_element(By\u001b[38;5;241m.\u001b[39mXPATH,\u001b[38;5;124m'\u001b[39m\u001b[38;5;124m//div[@class=\u001b[39m\u001b[38;5;124m\"\u001b[39m\u001b[38;5;124mstyles_chckBoxCont__t_dRs\u001b[39m\u001b[38;5;124m\"\u001b[39m\u001b[38;5;124m]\u001b[39m\u001b[38;5;124m'\u001b[39m)\n\u001b[0;32m      2\u001b[0m _3_6_Lakhs_option\u001b[38;5;241m.\u001b[39mclick()\n",
      "File \u001b[1;32m~\\anaconda3\\Lib\\site-packages\\selenium\\webdriver\\remote\\webdriver.py:741\u001b[0m, in \u001b[0;36mWebDriver.find_element\u001b[1;34m(self, by, value)\u001b[0m\n\u001b[0;32m    738\u001b[0m     by \u001b[38;5;241m=\u001b[39m By\u001b[38;5;241m.\u001b[39mCSS_SELECTOR\n\u001b[0;32m    739\u001b[0m     value \u001b[38;5;241m=\u001b[39m \u001b[38;5;124mf\u001b[39m\u001b[38;5;124m'\u001b[39m\u001b[38;5;124m[name=\u001b[39m\u001b[38;5;124m\"\u001b[39m\u001b[38;5;132;01m{\u001b[39;00mvalue\u001b[38;5;132;01m}\u001b[39;00m\u001b[38;5;124m\"\u001b[39m\u001b[38;5;124m]\u001b[39m\u001b[38;5;124m'\u001b[39m\n\u001b[1;32m--> 741\u001b[0m \u001b[38;5;28;01mreturn\u001b[39;00m \u001b[38;5;28mself\u001b[39m\u001b[38;5;241m.\u001b[39mexecute(Command\u001b[38;5;241m.\u001b[39mFIND_ELEMENT, {\u001b[38;5;124m\"\u001b[39m\u001b[38;5;124musing\u001b[39m\u001b[38;5;124m\"\u001b[39m: by, \u001b[38;5;124m\"\u001b[39m\u001b[38;5;124mvalue\u001b[39m\u001b[38;5;124m\"\u001b[39m: value})[\u001b[38;5;124m\"\u001b[39m\u001b[38;5;124mvalue\u001b[39m\u001b[38;5;124m\"\u001b[39m]\n",
      "File \u001b[1;32m~\\anaconda3\\Lib\\site-packages\\selenium\\webdriver\\remote\\webdriver.py:347\u001b[0m, in \u001b[0;36mWebDriver.execute\u001b[1;34m(self, driver_command, params)\u001b[0m\n\u001b[0;32m    345\u001b[0m response \u001b[38;5;241m=\u001b[39m \u001b[38;5;28mself\u001b[39m\u001b[38;5;241m.\u001b[39mcommand_executor\u001b[38;5;241m.\u001b[39mexecute(driver_command, params)\n\u001b[0;32m    346\u001b[0m \u001b[38;5;28;01mif\u001b[39;00m response:\n\u001b[1;32m--> 347\u001b[0m     \u001b[38;5;28mself\u001b[39m\u001b[38;5;241m.\u001b[39merror_handler\u001b[38;5;241m.\u001b[39mcheck_response(response)\n\u001b[0;32m    348\u001b[0m     response[\u001b[38;5;124m\"\u001b[39m\u001b[38;5;124mvalue\u001b[39m\u001b[38;5;124m\"\u001b[39m] \u001b[38;5;241m=\u001b[39m \u001b[38;5;28mself\u001b[39m\u001b[38;5;241m.\u001b[39m_unwrap_value(response\u001b[38;5;241m.\u001b[39mget(\u001b[38;5;124m\"\u001b[39m\u001b[38;5;124mvalue\u001b[39m\u001b[38;5;124m\"\u001b[39m, \u001b[38;5;28;01mNone\u001b[39;00m))\n\u001b[0;32m    349\u001b[0m     \u001b[38;5;28;01mreturn\u001b[39;00m response\n",
      "File \u001b[1;32m~\\anaconda3\\Lib\\site-packages\\selenium\\webdriver\\remote\\errorhandler.py:229\u001b[0m, in \u001b[0;36mErrorHandler.check_response\u001b[1;34m(self, response)\u001b[0m\n\u001b[0;32m    227\u001b[0m         alert_text \u001b[38;5;241m=\u001b[39m value[\u001b[38;5;124m\"\u001b[39m\u001b[38;5;124malert\u001b[39m\u001b[38;5;124m\"\u001b[39m]\u001b[38;5;241m.\u001b[39mget(\u001b[38;5;124m\"\u001b[39m\u001b[38;5;124mtext\u001b[39m\u001b[38;5;124m\"\u001b[39m)\n\u001b[0;32m    228\u001b[0m     \u001b[38;5;28;01mraise\u001b[39;00m exception_class(message, screen, stacktrace, alert_text)  \u001b[38;5;66;03m# type: ignore[call-arg]  # mypy is not smart enough here\u001b[39;00m\n\u001b[1;32m--> 229\u001b[0m \u001b[38;5;28;01mraise\u001b[39;00m exception_class(message, screen, stacktrace)\n",
      "\u001b[1;31mNoSuchElementException\u001b[0m: Message: no such element: Unable to locate element: {\"method\":\"xpath\",\"selector\":\"//div[@class=\"styles_chckBoxCont__t_dRs\"]\"}\n  (Session info: chrome=122.0.6261.129); For documentation on this error, please visit: https://www.selenium.dev/documentation/webdriver/troubleshooting/errors#no-such-element-exception\nStacktrace:\n\tGetHandleVerifier [0x00007FF71DCFAD02+56930]\n\t(No symbol) [0x00007FF71DC6F602]\n\t(No symbol) [0x00007FF71DB242E5]\n\t(No symbol) [0x00007FF71DB698ED]\n\t(No symbol) [0x00007FF71DB69A2C]\n\t(No symbol) [0x00007FF71DBAA967]\n\t(No symbol) [0x00007FF71DB8BCDF]\n\t(No symbol) [0x00007FF71DBA81E2]\n\t(No symbol) [0x00007FF71DB8BA43]\n\t(No symbol) [0x00007FF71DB5D438]\n\t(No symbol) [0x00007FF71DB5E4D1]\n\tGetHandleVerifier [0x00007FF71E076F8D+3711213]\n\tGetHandleVerifier [0x00007FF71E0D04CD+4077101]\n\tGetHandleVerifier [0x00007FF71E0C865F+4044735]\n\tGetHandleVerifier [0x00007FF71DD99736+706710]\n\t(No symbol) [0x00007FF71DC7B8DF]\n\t(No symbol) [0x00007FF71DC76AC4]\n\t(No symbol) [0x00007FF71DC76C1C]\n\t(No symbol) [0x00007FF71DC668D4]\n\tBaseThreadInitThunk [0x00007FFCD46C257D+29]\n\tRtlUserThreadStart [0x00007FFCD616AA58+40]\n"
     ]
    }
   ],
   "source": [
    "_3_6_Lakhs_option=driver.find_element(By.XPATH,'//div[@class=\"styles_chckBoxCont__t_dRs\"]')\n",
    "_3_6_Lakhs_option.click()"
   ]
  },
  {
   "cell_type": "code",
   "execution_count": 171,
   "id": "8c513b1a",
   "metadata": {},
   "outputs": [],
   "source": [
    "job_title=[]\n",
    "job_location=[]\n",
    "company_name=[]\n",
    "experience_required=[]"
   ]
  },
  {
   "cell_type": "code",
   "execution_count": 172,
   "id": "f9432fc4",
   "metadata": {},
   "outputs": [
    {
     "ename": "InvalidSelectorException",
     "evalue": "Message: invalid selector: Unable to locate an element with the xpath expression  because of the following error:\nSyntaxError: Failed to execute 'evaluate' on 'Document': The string '' is not a valid XPath expression.\n  (Session info: chrome=122.0.6261.129); For documentation on this error, please visit: https://www.selenium.dev/documentation/webdriver/troubleshooting/errors#invalid-selector-exception\nStacktrace:\n\tGetHandleVerifier [0x00007FF71DCFAD02+56930]\n\t(No symbol) [0x00007FF71DC6F602]\n\t(No symbol) [0x00007FF71DB242E5]\n\t(No symbol) [0x00007FF71DB29261]\n\t(No symbol) [0x00007FF71DB2B6EB]\n\t(No symbol) [0x00007FF71DB2B7B0]\n\t(No symbol) [0x00007FF71DB6955C]\n\t(No symbol) [0x00007FF71DB69A2C]\n\t(No symbol) [0x00007FF71DBAA997]\n\t(No symbol) [0x00007FF71DB8BCDF]\n\t(No symbol) [0x00007FF71DBA81E2]\n\t(No symbol) [0x00007FF71DB8BA43]\n\t(No symbol) [0x00007FF71DB5D438]\n\t(No symbol) [0x00007FF71DB5E4D1]\n\tGetHandleVerifier [0x00007FF71E076F8D+3711213]\n\tGetHandleVerifier [0x00007FF71E0D04CD+4077101]\n\tGetHandleVerifier [0x00007FF71E0C865F+4044735]\n\tGetHandleVerifier [0x00007FF71DD99736+706710]\n\t(No symbol) [0x00007FF71DC7B8DF]\n\t(No symbol) [0x00007FF71DC76AC4]\n\t(No symbol) [0x00007FF71DC76C1C]\n\t(No symbol) [0x00007FF71DC668D4]\n\tBaseThreadInitThunk [0x00007FFCD46C257D+29]\n\tRtlUserThreadStart [0x00007FFCD616AA58+40]\n",
     "output_type": "error",
     "traceback": [
      "\u001b[1;31m---------------------------------------------------------------------------\u001b[0m",
      "\u001b[1;31mInvalidSelectorException\u001b[0m                  Traceback (most recent call last)",
      "Cell \u001b[1;32mIn[172], line 1\u001b[0m\n\u001b[1;32m----> 1\u001b[0m title_tags\u001b[38;5;241m=\u001b[39mdriver\u001b[38;5;241m.\u001b[39mfind_elements(By\u001b[38;5;241m.\u001b[39mXPATH,\u001b[38;5;124m'\u001b[39m\u001b[38;5;124m'\u001b[39m)\n\u001b[0;32m      2\u001b[0m \u001b[38;5;28;01mfor\u001b[39;00m i \u001b[38;5;129;01min\u001b[39;00m title_tags:\n\u001b[0;32m      3\u001b[0m     job_title\u001b[38;5;241m.\u001b[39mappend(i\u001b[38;5;241m.\u001b[39mtext)\n",
      "File \u001b[1;32m~\\anaconda3\\Lib\\site-packages\\selenium\\webdriver\\remote\\webdriver.py:771\u001b[0m, in \u001b[0;36mWebDriver.find_elements\u001b[1;34m(self, by, value)\u001b[0m\n\u001b[0;32m    767\u001b[0m     value \u001b[38;5;241m=\u001b[39m \u001b[38;5;124mf\u001b[39m\u001b[38;5;124m'\u001b[39m\u001b[38;5;124m[name=\u001b[39m\u001b[38;5;124m\"\u001b[39m\u001b[38;5;132;01m{\u001b[39;00mvalue\u001b[38;5;132;01m}\u001b[39;00m\u001b[38;5;124m\"\u001b[39m\u001b[38;5;124m]\u001b[39m\u001b[38;5;124m'\u001b[39m\n\u001b[0;32m    769\u001b[0m \u001b[38;5;66;03m# Return empty list if driver returns null\u001b[39;00m\n\u001b[0;32m    770\u001b[0m \u001b[38;5;66;03m# See https://github.com/SeleniumHQ/selenium/issues/4555\u001b[39;00m\n\u001b[1;32m--> 771\u001b[0m \u001b[38;5;28;01mreturn\u001b[39;00m \u001b[38;5;28mself\u001b[39m\u001b[38;5;241m.\u001b[39mexecute(Command\u001b[38;5;241m.\u001b[39mFIND_ELEMENTS, {\u001b[38;5;124m\"\u001b[39m\u001b[38;5;124musing\u001b[39m\u001b[38;5;124m\"\u001b[39m: by, \u001b[38;5;124m\"\u001b[39m\u001b[38;5;124mvalue\u001b[39m\u001b[38;5;124m\"\u001b[39m: value})[\u001b[38;5;124m\"\u001b[39m\u001b[38;5;124mvalue\u001b[39m\u001b[38;5;124m\"\u001b[39m] \u001b[38;5;129;01mor\u001b[39;00m []\n",
      "File \u001b[1;32m~\\anaconda3\\Lib\\site-packages\\selenium\\webdriver\\remote\\webdriver.py:347\u001b[0m, in \u001b[0;36mWebDriver.execute\u001b[1;34m(self, driver_command, params)\u001b[0m\n\u001b[0;32m    345\u001b[0m response \u001b[38;5;241m=\u001b[39m \u001b[38;5;28mself\u001b[39m\u001b[38;5;241m.\u001b[39mcommand_executor\u001b[38;5;241m.\u001b[39mexecute(driver_command, params)\n\u001b[0;32m    346\u001b[0m \u001b[38;5;28;01mif\u001b[39;00m response:\n\u001b[1;32m--> 347\u001b[0m     \u001b[38;5;28mself\u001b[39m\u001b[38;5;241m.\u001b[39merror_handler\u001b[38;5;241m.\u001b[39mcheck_response(response)\n\u001b[0;32m    348\u001b[0m     response[\u001b[38;5;124m\"\u001b[39m\u001b[38;5;124mvalue\u001b[39m\u001b[38;5;124m\"\u001b[39m] \u001b[38;5;241m=\u001b[39m \u001b[38;5;28mself\u001b[39m\u001b[38;5;241m.\u001b[39m_unwrap_value(response\u001b[38;5;241m.\u001b[39mget(\u001b[38;5;124m\"\u001b[39m\u001b[38;5;124mvalue\u001b[39m\u001b[38;5;124m\"\u001b[39m, \u001b[38;5;28;01mNone\u001b[39;00m))\n\u001b[0;32m    349\u001b[0m     \u001b[38;5;28;01mreturn\u001b[39;00m response\n",
      "File \u001b[1;32m~\\anaconda3\\Lib\\site-packages\\selenium\\webdriver\\remote\\errorhandler.py:229\u001b[0m, in \u001b[0;36mErrorHandler.check_response\u001b[1;34m(self, response)\u001b[0m\n\u001b[0;32m    227\u001b[0m         alert_text \u001b[38;5;241m=\u001b[39m value[\u001b[38;5;124m\"\u001b[39m\u001b[38;5;124malert\u001b[39m\u001b[38;5;124m\"\u001b[39m]\u001b[38;5;241m.\u001b[39mget(\u001b[38;5;124m\"\u001b[39m\u001b[38;5;124mtext\u001b[39m\u001b[38;5;124m\"\u001b[39m)\n\u001b[0;32m    228\u001b[0m     \u001b[38;5;28;01mraise\u001b[39;00m exception_class(message, screen, stacktrace, alert_text)  \u001b[38;5;66;03m# type: ignore[call-arg]  # mypy is not smart enough here\u001b[39;00m\n\u001b[1;32m--> 229\u001b[0m \u001b[38;5;28;01mraise\u001b[39;00m exception_class(message, screen, stacktrace)\n",
      "\u001b[1;31mInvalidSelectorException\u001b[0m: Message: invalid selector: Unable to locate an element with the xpath expression  because of the following error:\nSyntaxError: Failed to execute 'evaluate' on 'Document': The string '' is not a valid XPath expression.\n  (Session info: chrome=122.0.6261.129); For documentation on this error, please visit: https://www.selenium.dev/documentation/webdriver/troubleshooting/errors#invalid-selector-exception\nStacktrace:\n\tGetHandleVerifier [0x00007FF71DCFAD02+56930]\n\t(No symbol) [0x00007FF71DC6F602]\n\t(No symbol) [0x00007FF71DB242E5]\n\t(No symbol) [0x00007FF71DB29261]\n\t(No symbol) [0x00007FF71DB2B6EB]\n\t(No symbol) [0x00007FF71DB2B7B0]\n\t(No symbol) [0x00007FF71DB6955C]\n\t(No symbol) [0x00007FF71DB69A2C]\n\t(No symbol) [0x00007FF71DBAA997]\n\t(No symbol) [0x00007FF71DB8BCDF]\n\t(No symbol) [0x00007FF71DBA81E2]\n\t(No symbol) [0x00007FF71DB8BA43]\n\t(No symbol) [0x00007FF71DB5D438]\n\t(No symbol) [0x00007FF71DB5E4D1]\n\tGetHandleVerifier [0x00007FF71E076F8D+3711213]\n\tGetHandleVerifier [0x00007FF71E0D04CD+4077101]\n\tGetHandleVerifier [0x00007FF71E0C865F+4044735]\n\tGetHandleVerifier [0x00007FF71DD99736+706710]\n\t(No symbol) [0x00007FF71DC7B8DF]\n\t(No symbol) [0x00007FF71DC76AC4]\n\t(No symbol) [0x00007FF71DC76C1C]\n\t(No symbol) [0x00007FF71DC668D4]\n\tBaseThreadInitThunk [0x00007FFCD46C257D+29]\n\tRtlUserThreadStart [0x00007FFCD616AA58+40]\n"
     ]
    }
   ],
   "source": [
    "title_tags=driver.find_elements(By.XPATH,'')\n",
    "for i in title_tags:\n",
    "    job_title.append(i.text)\n",
    "    \n",
    "location_tags=driver.find_elements(By.XPATH,'')\n",
    "for i in location_tags:\n",
    "    job_location.append(i.text)\n",
    "    \n",
    "experience_tags=driver.find_elements(By.XPATH,'')\n",
    "for i in experience_tags:\n",
    "    experience_required.append(i.text)\n",
    "    \n",
    "company_tags=driver.find_elements(By.XPATH,'')\n",
    "for i in company_tags:\n",
    "    company_name.append(i.text)"
   ]
  },
  {
   "cell_type": "code",
   "execution_count": 151,
   "id": "77907529",
   "metadata": {},
   "outputs": [
    {
     "name": "stdout",
     "output_type": "stream",
     "text": [
      "10 10 10 10\n"
     ]
    }
   ],
   "source": [
    "print(len(job_title),len(job_location),len(experience_required),len(company_name))"
   ]
  },
  {
   "cell_type": "code",
   "execution_count": 152,
   "id": "44cb54ba",
   "metadata": {},
   "outputs": [
    {
     "data": {
      "text/html": [
       "<div>\n",
       "<style scoped>\n",
       "    .dataframe tbody tr th:only-of-type {\n",
       "        vertical-align: middle;\n",
       "    }\n",
       "\n",
       "    .dataframe tbody tr th {\n",
       "        vertical-align: top;\n",
       "    }\n",
       "\n",
       "    .dataframe thead th {\n",
       "        text-align: right;\n",
       "    }\n",
       "</style>\n",
       "<table border=\"1\" class=\"dataframe\">\n",
       "  <thead>\n",
       "    <tr style=\"text-align: right;\">\n",
       "      <th></th>\n",
       "      <th>Title</th>\n",
       "      <th>Location</th>\n",
       "      <th>Experience</th>\n",
       "      <th>Company</th>\n",
       "    </tr>\n",
       "  </thead>\n",
       "  <tbody>\n",
       "    <tr>\n",
       "      <th>0</th>\n",
       "      <td>Senior Data Scientist, Reporting</td>\n",
       "      <td>Kolkata, Mumbai, New Delhi, Hyderabad/Secunder...</td>\n",
       "      <td>6-7 Yrs</td>\n",
       "      <td>Coursera</td>\n",
       "    </tr>\n",
       "    <tr>\n",
       "      <th>1</th>\n",
       "      <td>Data Scientist, Marketing</td>\n",
       "      <td>Kolkata, Mumbai, New Delhi, Hyderabad/Secunder...</td>\n",
       "      <td>4-6 Yrs</td>\n",
       "      <td>Coursera</td>\n",
       "    </tr>\n",
       "    <tr>\n",
       "      <th>2</th>\n",
       "      <td>HCL Hiring||Senior Data Scientist Role||Locati...</td>\n",
       "      <td>Hybrid - Pune, Maharashtra, Bangalore Rural, K...</td>\n",
       "      <td>10-20 Yrs</td>\n",
       "      <td>HCLTech</td>\n",
       "    </tr>\n",
       "    <tr>\n",
       "      <th>3</th>\n",
       "      <td>Data Scientist</td>\n",
       "      <td>Hybrid - Bangalore Rural, Karnataka, Mumbai (A...</td>\n",
       "      <td>8-12 Yrs</td>\n",
       "      <td>Birlasoft</td>\n",
       "    </tr>\n",
       "    <tr>\n",
       "      <th>4</th>\n",
       "      <td>Data Scientist</td>\n",
       "      <td>Kolkata, Mumbai, New Delhi, Hyderabad, Pune, C...</td>\n",
       "      <td>3-6 Yrs</td>\n",
       "      <td>Ford</td>\n",
       "    </tr>\n",
       "    <tr>\n",
       "      <th>5</th>\n",
       "      <td>AI Data Scientist</td>\n",
       "      <td>Kolkata, Mumbai, New Delhi, Hyderabad, Pune, C...</td>\n",
       "      <td>2-6 Yrs</td>\n",
       "      <td>Ford</td>\n",
       "    </tr>\n",
       "    <tr>\n",
       "      <th>6</th>\n",
       "      <td>GenAI Data Scientist</td>\n",
       "      <td>Kolkata, Mumbai, New Delhi, Hyderabad, Pune, C...</td>\n",
       "      <td>5-6 Yrs</td>\n",
       "      <td>Ford</td>\n",
       "    </tr>\n",
       "    <tr>\n",
       "      <th>7</th>\n",
       "      <td>Data Scientist HTHD</td>\n",
       "      <td>Kolkata, Mumbai, New Delhi, Hyderabad, Pune, C...</td>\n",
       "      <td>1-4 Yrs</td>\n",
       "      <td>Ford</td>\n",
       "    </tr>\n",
       "    <tr>\n",
       "      <th>8</th>\n",
       "      <td>Data Scientist-Senior Associate - P&amp;T Labs</td>\n",
       "      <td>Mumbai, Hyderabad, Bengaluru</td>\n",
       "      <td>4-6 Yrs</td>\n",
       "      <td>PwC Service Delivery Center</td>\n",
       "    </tr>\n",
       "    <tr>\n",
       "      <th>9</th>\n",
       "      <td>Data Scientist</td>\n",
       "      <td>Mumbai, Hyderabad, Gurugram</td>\n",
       "      <td>3-6 Yrs</td>\n",
       "      <td>Deloitte</td>\n",
       "    </tr>\n",
       "  </tbody>\n",
       "</table>\n",
       "</div>"
      ],
      "text/plain": [
       "                                               Title  \\\n",
       "0                   Senior Data Scientist, Reporting   \n",
       "1                          Data Scientist, Marketing   \n",
       "2  HCL Hiring||Senior Data Scientist Role||Locati...   \n",
       "3                                     Data Scientist   \n",
       "4                                     Data Scientist   \n",
       "5                                  AI Data Scientist   \n",
       "6                               GenAI Data Scientist   \n",
       "7                                Data Scientist HTHD   \n",
       "8         Data Scientist-Senior Associate - P&T Labs   \n",
       "9                                     Data Scientist   \n",
       "\n",
       "                                            Location Experience  \\\n",
       "0  Kolkata, Mumbai, New Delhi, Hyderabad/Secunder...    6-7 Yrs   \n",
       "1  Kolkata, Mumbai, New Delhi, Hyderabad/Secunder...    4-6 Yrs   \n",
       "2  Hybrid - Pune, Maharashtra, Bangalore Rural, K...  10-20 Yrs   \n",
       "3  Hybrid - Bangalore Rural, Karnataka, Mumbai (A...   8-12 Yrs   \n",
       "4  Kolkata, Mumbai, New Delhi, Hyderabad, Pune, C...    3-6 Yrs   \n",
       "5  Kolkata, Mumbai, New Delhi, Hyderabad, Pune, C...    2-6 Yrs   \n",
       "6  Kolkata, Mumbai, New Delhi, Hyderabad, Pune, C...    5-6 Yrs   \n",
       "7  Kolkata, Mumbai, New Delhi, Hyderabad, Pune, C...    1-4 Yrs   \n",
       "8                       Mumbai, Hyderabad, Bengaluru    4-6 Yrs   \n",
       "9                        Mumbai, Hyderabad, Gurugram    3-6 Yrs   \n",
       "\n",
       "                       Company  \n",
       "0                     Coursera  \n",
       "1                     Coursera  \n",
       "2                      HCLTech  \n",
       "3                    Birlasoft  \n",
       "4                         Ford  \n",
       "5                         Ford  \n",
       "6                         Ford  \n",
       "7                         Ford  \n",
       "8  PwC Service Delivery Center  \n",
       "9                     Deloitte  "
      ]
     },
     "execution_count": 152,
     "metadata": {},
     "output_type": "execute_result"
    }
   ],
   "source": [
    "import pandas as pd\n",
    "df=pd.DataFrame({'Title':job_title,'Location':job_location,'Experience':experience_required,'Company':company_name})\n",
    "df"
   ]
  },
  {
   "cell_type": "markdown",
   "id": "7d9ce69a",
   "metadata": {},
   "source": [
    "QUESTION NO 2"
   ]
  },
  {
   "cell_type": "code",
   "execution_count": 265,
   "id": "3e256cc6",
   "metadata": {},
   "outputs": [],
   "source": [
    "driver=webdriver.Chrome()"
   ]
  },
  {
   "cell_type": "code",
   "execution_count": 266,
   "id": "193ad2b1",
   "metadata": {},
   "outputs": [],
   "source": [
    "driver.get('https://www.shine.com')"
   ]
  },
  {
   "cell_type": "code",
   "execution_count": 267,
   "id": "1e3d6d68",
   "metadata": {},
   "outputs": [
    {
     "ename": "NoSuchElementException",
     "evalue": "Message: no such element: Unable to locate element: {\"method\":\"css selector\",\"selector\":\".form-control\"}\n  (Session info: chrome=122.0.6261.129); For documentation on this error, please visit: https://www.selenium.dev/documentation/webdriver/troubleshooting/errors#no-such-element-exception\nStacktrace:\n\tGetHandleVerifier [0x00007FF71DCFAD02+56930]\n\t(No symbol) [0x00007FF71DC6F602]\n\t(No symbol) [0x00007FF71DB242E5]\n\t(No symbol) [0x00007FF71DB698ED]\n\t(No symbol) [0x00007FF71DB69A2C]\n\t(No symbol) [0x00007FF71DBAA967]\n\t(No symbol) [0x00007FF71DB8BCDF]\n\t(No symbol) [0x00007FF71DBA81E2]\n\t(No symbol) [0x00007FF71DB8BA43]\n\t(No symbol) [0x00007FF71DB5D438]\n\t(No symbol) [0x00007FF71DB5E4D1]\n\tGetHandleVerifier [0x00007FF71E076F8D+3711213]\n\tGetHandleVerifier [0x00007FF71E0D04CD+4077101]\n\tGetHandleVerifier [0x00007FF71E0C865F+4044735]\n\tGetHandleVerifier [0x00007FF71DD99736+706710]\n\t(No symbol) [0x00007FF71DC7B8DF]\n\t(No symbol) [0x00007FF71DC76AC4]\n\t(No symbol) [0x00007FF71DC76C1C]\n\t(No symbol) [0x00007FF71DC668D4]\n\tBaseThreadInitThunk [0x00007FFCD46C257D+29]\n\tRtlUserThreadStart [0x00007FFCD616AA58+40]\n",
     "output_type": "error",
     "traceback": [
      "\u001b[1;31m---------------------------------------------------------------------------\u001b[0m",
      "\u001b[1;31mNoSuchElementException\u001b[0m                    Traceback (most recent call last)",
      "Cell \u001b[1;32mIn[267], line 1\u001b[0m\n\u001b[1;32m----> 1\u001b[0m designation\u001b[38;5;241m=\u001b[39mdriver\u001b[38;5;241m.\u001b[39mfind_element(By\u001b[38;5;241m.\u001b[39mCLASS_NAME,\u001b[38;5;124m'\u001b[39m\u001b[38;5;124mform-control\u001b[39m\u001b[38;5;124m'\u001b[39m)\n\u001b[0;32m      2\u001b[0m designation\u001b[38;5;241m.\u001b[39msend_keys(\u001b[38;5;124m'\u001b[39m\u001b[38;5;124mData Analyst\u001b[39m\u001b[38;5;124m'\u001b[39m)\n",
      "File \u001b[1;32m~\\anaconda3\\Lib\\site-packages\\selenium\\webdriver\\remote\\webdriver.py:741\u001b[0m, in \u001b[0;36mWebDriver.find_element\u001b[1;34m(self, by, value)\u001b[0m\n\u001b[0;32m    738\u001b[0m     by \u001b[38;5;241m=\u001b[39m By\u001b[38;5;241m.\u001b[39mCSS_SELECTOR\n\u001b[0;32m    739\u001b[0m     value \u001b[38;5;241m=\u001b[39m \u001b[38;5;124mf\u001b[39m\u001b[38;5;124m'\u001b[39m\u001b[38;5;124m[name=\u001b[39m\u001b[38;5;124m\"\u001b[39m\u001b[38;5;132;01m{\u001b[39;00mvalue\u001b[38;5;132;01m}\u001b[39;00m\u001b[38;5;124m\"\u001b[39m\u001b[38;5;124m]\u001b[39m\u001b[38;5;124m'\u001b[39m\n\u001b[1;32m--> 741\u001b[0m \u001b[38;5;28;01mreturn\u001b[39;00m \u001b[38;5;28mself\u001b[39m\u001b[38;5;241m.\u001b[39mexecute(Command\u001b[38;5;241m.\u001b[39mFIND_ELEMENT, {\u001b[38;5;124m\"\u001b[39m\u001b[38;5;124musing\u001b[39m\u001b[38;5;124m\"\u001b[39m: by, \u001b[38;5;124m\"\u001b[39m\u001b[38;5;124mvalue\u001b[39m\u001b[38;5;124m\"\u001b[39m: value})[\u001b[38;5;124m\"\u001b[39m\u001b[38;5;124mvalue\u001b[39m\u001b[38;5;124m\"\u001b[39m]\n",
      "File \u001b[1;32m~\\anaconda3\\Lib\\site-packages\\selenium\\webdriver\\remote\\webdriver.py:347\u001b[0m, in \u001b[0;36mWebDriver.execute\u001b[1;34m(self, driver_command, params)\u001b[0m\n\u001b[0;32m    345\u001b[0m response \u001b[38;5;241m=\u001b[39m \u001b[38;5;28mself\u001b[39m\u001b[38;5;241m.\u001b[39mcommand_executor\u001b[38;5;241m.\u001b[39mexecute(driver_command, params)\n\u001b[0;32m    346\u001b[0m \u001b[38;5;28;01mif\u001b[39;00m response:\n\u001b[1;32m--> 347\u001b[0m     \u001b[38;5;28mself\u001b[39m\u001b[38;5;241m.\u001b[39merror_handler\u001b[38;5;241m.\u001b[39mcheck_response(response)\n\u001b[0;32m    348\u001b[0m     response[\u001b[38;5;124m\"\u001b[39m\u001b[38;5;124mvalue\u001b[39m\u001b[38;5;124m\"\u001b[39m] \u001b[38;5;241m=\u001b[39m \u001b[38;5;28mself\u001b[39m\u001b[38;5;241m.\u001b[39m_unwrap_value(response\u001b[38;5;241m.\u001b[39mget(\u001b[38;5;124m\"\u001b[39m\u001b[38;5;124mvalue\u001b[39m\u001b[38;5;124m\"\u001b[39m, \u001b[38;5;28;01mNone\u001b[39;00m))\n\u001b[0;32m    349\u001b[0m     \u001b[38;5;28;01mreturn\u001b[39;00m response\n",
      "File \u001b[1;32m~\\anaconda3\\Lib\\site-packages\\selenium\\webdriver\\remote\\errorhandler.py:229\u001b[0m, in \u001b[0;36mErrorHandler.check_response\u001b[1;34m(self, response)\u001b[0m\n\u001b[0;32m    227\u001b[0m         alert_text \u001b[38;5;241m=\u001b[39m value[\u001b[38;5;124m\"\u001b[39m\u001b[38;5;124malert\u001b[39m\u001b[38;5;124m\"\u001b[39m]\u001b[38;5;241m.\u001b[39mget(\u001b[38;5;124m\"\u001b[39m\u001b[38;5;124mtext\u001b[39m\u001b[38;5;124m\"\u001b[39m)\n\u001b[0;32m    228\u001b[0m     \u001b[38;5;28;01mraise\u001b[39;00m exception_class(message, screen, stacktrace, alert_text)  \u001b[38;5;66;03m# type: ignore[call-arg]  # mypy is not smart enough here\u001b[39;00m\n\u001b[1;32m--> 229\u001b[0m \u001b[38;5;28;01mraise\u001b[39;00m exception_class(message, screen, stacktrace)\n",
      "\u001b[1;31mNoSuchElementException\u001b[0m: Message: no such element: Unable to locate element: {\"method\":\"css selector\",\"selector\":\".form-control\"}\n  (Session info: chrome=122.0.6261.129); For documentation on this error, please visit: https://www.selenium.dev/documentation/webdriver/troubleshooting/errors#no-such-element-exception\nStacktrace:\n\tGetHandleVerifier [0x00007FF71DCFAD02+56930]\n\t(No symbol) [0x00007FF71DC6F602]\n\t(No symbol) [0x00007FF71DB242E5]\n\t(No symbol) [0x00007FF71DB698ED]\n\t(No symbol) [0x00007FF71DB69A2C]\n\t(No symbol) [0x00007FF71DBAA967]\n\t(No symbol) [0x00007FF71DB8BCDF]\n\t(No symbol) [0x00007FF71DBA81E2]\n\t(No symbol) [0x00007FF71DB8BA43]\n\t(No symbol) [0x00007FF71DB5D438]\n\t(No symbol) [0x00007FF71DB5E4D1]\n\tGetHandleVerifier [0x00007FF71E076F8D+3711213]\n\tGetHandleVerifier [0x00007FF71E0D04CD+4077101]\n\tGetHandleVerifier [0x00007FF71E0C865F+4044735]\n\tGetHandleVerifier [0x00007FF71DD99736+706710]\n\t(No symbol) [0x00007FF71DC7B8DF]\n\t(No symbol) [0x00007FF71DC76AC4]\n\t(No symbol) [0x00007FF71DC76C1C]\n\t(No symbol) [0x00007FF71DC668D4]\n\tBaseThreadInitThunk [0x00007FFCD46C257D+29]\n\tRtlUserThreadStart [0x00007FFCD616AA58+40]\n"
     ]
    }
   ],
   "source": [
    "designation=driver.find_element(By.CLASS_NAME,'form-control')\n",
    "designation.send_keys('Data Analyst')"
   ]
  },
  {
   "cell_type": "code",
   "execution_count": null,
   "id": "1e333b31",
   "metadata": {},
   "outputs": [],
   "source": []
  },
  {
   "cell_type": "code",
   "execution_count": null,
   "id": "4c32a75c",
   "metadata": {},
   "outputs": [],
   "source": []
  },
  {
   "cell_type": "code",
   "execution_count": null,
   "id": "35efc44c",
   "metadata": {},
   "outputs": [],
   "source": []
  },
  {
   "cell_type": "code",
   "execution_count": null,
   "id": "006c4459",
   "metadata": {},
   "outputs": [],
   "source": []
  },
  {
   "cell_type": "code",
   "execution_count": null,
   "id": "f20d19e1",
   "metadata": {},
   "outputs": [],
   "source": []
  },
  {
   "cell_type": "code",
   "execution_count": null,
   "id": "a1328d77",
   "metadata": {},
   "outputs": [],
   "source": []
  },
  {
   "cell_type": "code",
   "execution_count": null,
   "id": "226c64c5",
   "metadata": {},
   "outputs": [],
   "source": []
  },
  {
   "cell_type": "code",
   "execution_count": null,
   "id": "c341cb2b",
   "metadata": {},
   "outputs": [],
   "source": []
  },
  {
   "cell_type": "code",
   "execution_count": null,
   "id": "5d18cec3",
   "metadata": {},
   "outputs": [],
   "source": []
  },
  {
   "cell_type": "code",
   "execution_count": null,
   "id": "f3803316",
   "metadata": {},
   "outputs": [],
   "source": []
  },
  {
   "cell_type": "code",
   "execution_count": null,
   "id": "d21551ca",
   "metadata": {},
   "outputs": [],
   "source": []
  },
  {
   "cell_type": "code",
   "execution_count": null,
   "id": "f966a1a0",
   "metadata": {},
   "outputs": [],
   "source": []
  },
  {
   "cell_type": "markdown",
   "id": "f590c4a3",
   "metadata": {},
   "source": [
    "QUESTION 3"
   ]
  },
  {
   "cell_type": "code",
   "execution_count": 1,
   "id": "4abcaa91",
   "metadata": {},
   "outputs": [
    {
     "name": "stdout",
     "output_type": "stream",
     "text": [
      "Requirement already satisfied: selenium in c:\\users\\alsha mohammed\\anaconda3\\lib\\site-packages (4.18.1)\n",
      "Requirement already satisfied: urllib3[socks]<3,>=1.26 in c:\\users\\alsha mohammed\\anaconda3\\lib\\site-packages (from selenium) (1.26.16)\n",
      "Requirement already satisfied: trio~=0.17 in c:\\users\\alsha mohammed\\anaconda3\\lib\\site-packages (from selenium) (0.24.0)\n",
      "Requirement already satisfied: trio-websocket~=0.9 in c:\\users\\alsha mohammed\\anaconda3\\lib\\site-packages (from selenium) (0.11.1)\n",
      "Requirement already satisfied: certifi>=2021.10.8 in c:\\users\\alsha mohammed\\anaconda3\\lib\\site-packages (from selenium) (2023.5.7)\n",
      "Requirement already satisfied: typing_extensions>=4.9.0 in c:\\users\\alsha mohammed\\anaconda3\\lib\\site-packages (from selenium) (4.10.0)\n",
      "Requirement already satisfied: attrs>=20.1.0 in c:\\users\\alsha mohammed\\anaconda3\\lib\\site-packages (from trio~=0.17->selenium) (22.1.0)\n",
      "Requirement already satisfied: sortedcontainers in c:\\users\\alsha mohammed\\anaconda3\\lib\\site-packages (from trio~=0.17->selenium) (2.4.0)\n",
      "Requirement already satisfied: idna in c:\\users\\alsha mohammed\\anaconda3\\lib\\site-packages (from trio~=0.17->selenium) (3.4)\n",
      "Requirement already satisfied: outcome in c:\\users\\alsha mohammed\\anaconda3\\lib\\site-packages (from trio~=0.17->selenium) (1.3.0.post0)\n",
      "Requirement already satisfied: sniffio>=1.3.0 in c:\\users\\alsha mohammed\\anaconda3\\lib\\site-packages (from trio~=0.17->selenium) (1.3.1)\n",
      "Requirement already satisfied: cffi>=1.14 in c:\\users\\alsha mohammed\\anaconda3\\lib\\site-packages (from trio~=0.17->selenium) (1.15.1)\n",
      "Requirement already satisfied: wsproto>=0.14 in c:\\users\\alsha mohammed\\anaconda3\\lib\\site-packages (from trio-websocket~=0.9->selenium) (1.2.0)\n",
      "Requirement already satisfied: PySocks!=1.5.7,<2.0,>=1.5.6 in c:\\users\\alsha mohammed\\anaconda3\\lib\\site-packages (from urllib3[socks]<3,>=1.26->selenium) (1.7.1)\n",
      "Requirement already satisfied: pycparser in c:\\users\\alsha mohammed\\anaconda3\\lib\\site-packages (from cffi>=1.14->trio~=0.17->selenium) (2.21)\n",
      "Requirement already satisfied: h11<1,>=0.9.0 in c:\\users\\alsha mohammed\\anaconda3\\lib\\site-packages (from wsproto>=0.14->trio-websocket~=0.9->selenium) (0.14.0)\n"
     ]
    }
   ],
   "source": [
    "!pip install selenium"
   ]
  },
  {
   "cell_type": "code",
   "execution_count": 2,
   "id": "7251e24e",
   "metadata": {},
   "outputs": [],
   "source": [
    "import pandas as pd\n",
    "import selenium\n",
    "from selenium import webdriver\n",
    "import warnings\n",
    "warnings.filterwarnings('ignore')\n",
    "from selenium.webdriver.common.by import By\n",
    "import time"
   ]
  },
  {
   "cell_type": "code",
   "execution_count": 3,
   "id": "d47c45fd",
   "metadata": {},
   "outputs": [],
   "source": [
    "driver=webdriver.Chrome()"
   ]
  },
  {
   "cell_type": "code",
   "execution_count": 4,
   "id": "ddae0a76",
   "metadata": {},
   "outputs": [],
   "source": [
    "driver.get('https://www.flipkart.com/apple-iphone-15-black-128-gb/p/itm6ac6485515ae4?pid=MOBGTAGPTB3VS24W&lid=LSTMOBGTAGPTB3VS24WVZNSC6&marketplace=FLIPKART&q=iphone+15&store=tyy/4io&srno=s_1_2&otracker=AS_QueryStore_OrganicAutoSuggest_1_2_na_na_na&otracker1=AS_QueryStore_OrganicAutoSuggest_1_2_na_na_na&fm=organic&iid=b596c120-8114-44e8-9819-0b4dee130fa9.MOBGTAGPTB3VS24W.SEARCH&ppt=hp&ppn=homepage&ssid=s3c8i7dsvk0000001710403029549&qH=2f54b45b321e3ae5')"
   ]
  },
  {
   "cell_type": "code",
   "execution_count": 14,
   "id": "78f9395a",
   "metadata": {},
   "outputs": [],
   "source": [
    "Product_Rating=[]\n",
    "Review_summary=[]\n",
    "Full_review=[]"
   ]
  },
  {
   "cell_type": "code",
   "execution_count": 15,
   "id": "0244b5f9",
   "metadata": {},
   "outputs": [],
   "source": [
    "start=0\n",
    "end=10\n",
    "for page in range(start,end):\n",
    "    rating_tags=driver.find_elements(By.XPATH,'//div[@class=\"_3LWZlK _1BLPMq\"]')\n",
    "    for i in rating_tags:\n",
    "        Product_Rating.append(i.text)\n",
    "    \n",
    "start=0\n",
    "end=10\n",
    "for page in range(start,end):\n",
    "    summary_tags=driver.find_elements(By.XPATH,'//p[@class=\"_2-N8zT\"]')\n",
    "    for i in summary_tags:\n",
    "        Review_summary.append(i.text)\n",
    "    \n",
    "start=0\n",
    "end=10\n",
    "for page in range(start,end):\n",
    "    review_tags=driver.find_elements(By.XPATH,'//div[@class=\"t-ZTKy\"]')\n",
    "    for i in review_tags:\n",
    "        Full_review.append(i.text)"
   ]
  },
  {
   "cell_type": "code",
   "execution_count": 16,
   "id": "450ebb8e",
   "metadata": {},
   "outputs": [
    {
     "name": "stdout",
     "output_type": "stream",
     "text": [
      "100 100 100\n"
     ]
    }
   ],
   "source": [
    "print(len(Product_Rating),len(Review_summary),len(Full_review))"
   ]
  },
  {
   "cell_type": "code",
   "execution_count": 17,
   "id": "47ec59e4",
   "metadata": {},
   "outputs": [
    {
     "data": {
      "text/html": [
       "<div>\n",
       "<style scoped>\n",
       "    .dataframe tbody tr th:only-of-type {\n",
       "        vertical-align: middle;\n",
       "    }\n",
       "\n",
       "    .dataframe tbody tr th {\n",
       "        vertical-align: top;\n",
       "    }\n",
       "\n",
       "    .dataframe thead th {\n",
       "        text-align: right;\n",
       "    }\n",
       "</style>\n",
       "<table border=\"1\" class=\"dataframe\">\n",
       "  <thead>\n",
       "    <tr style=\"text-align: right;\">\n",
       "      <th></th>\n",
       "      <th>RATING</th>\n",
       "      <th>REVIEW SUMMARY</th>\n",
       "      <th>FULL REVIEW</th>\n",
       "    </tr>\n",
       "  </thead>\n",
       "  <tbody>\n",
       "    <tr>\n",
       "      <th>0</th>\n",
       "      <td>5</td>\n",
       "      <td>Just wow!</td>\n",
       "      <td>Camera Quality Is Improved Loving It</td>\n",
       "    </tr>\n",
       "    <tr>\n",
       "      <th>1</th>\n",
       "      <td>5</td>\n",
       "      <td>Mind-blowing purchase</td>\n",
       "      <td>High quality camera😍</td>\n",
       "    </tr>\n",
       "    <tr>\n",
       "      <th>2</th>\n",
       "      <td>5</td>\n",
       "      <td>Classy product</td>\n",
       "      <td>Nice ❤️</td>\n",
       "    </tr>\n",
       "    <tr>\n",
       "      <th>3</th>\n",
       "      <td>5</td>\n",
       "      <td>Highly recommended</td>\n",
       "      <td>I love this phone. The camera is amazing: its ...</td>\n",
       "    </tr>\n",
       "    <tr>\n",
       "      <th>4</th>\n",
       "      <td>4</td>\n",
       "      <td>Good choice</td>\n",
       "      <td>Very nice</td>\n",
       "    </tr>\n",
       "    <tr>\n",
       "      <th>...</th>\n",
       "      <td>...</td>\n",
       "      <td>...</td>\n",
       "      <td>...</td>\n",
       "    </tr>\n",
       "    <tr>\n",
       "      <th>95</th>\n",
       "      <td>4</td>\n",
       "      <td>Worth the money</td>\n",
       "      <td>Best mobile phone\\nCamera quality is very nice...</td>\n",
       "    </tr>\n",
       "    <tr>\n",
       "      <th>96</th>\n",
       "      <td>5</td>\n",
       "      <td>Awesome</td>\n",
       "      <td>Switch from OnePlus to iPhone I am stunned wit...</td>\n",
       "    </tr>\n",
       "    <tr>\n",
       "      <th>97</th>\n",
       "      <td>5</td>\n",
       "      <td>Brilliant</td>\n",
       "      <td>Totally happy!\\nCamera 5\\nBattery 5\\nDisplay 5...</td>\n",
       "    </tr>\n",
       "    <tr>\n",
       "      <th>98</th>\n",
       "      <td>5</td>\n",
       "      <td>Mind-blowing purchase</td>\n",
       "      <td>No doubt this smartphone an art.</td>\n",
       "    </tr>\n",
       "    <tr>\n",
       "      <th>99</th>\n",
       "      <td>4</td>\n",
       "      <td>Really Nice</td>\n",
       "      <td>Awesome camra quality superb camra 😊</td>\n",
       "    </tr>\n",
       "  </tbody>\n",
       "</table>\n",
       "<p>100 rows × 3 columns</p>\n",
       "</div>"
      ],
      "text/plain": [
       "   RATING         REVIEW SUMMARY  \\\n",
       "0       5              Just wow!   \n",
       "1       5  Mind-blowing purchase   \n",
       "2       5         Classy product   \n",
       "3       5     Highly recommended   \n",
       "4       4            Good choice   \n",
       "..    ...                    ...   \n",
       "95      4        Worth the money   \n",
       "96      5                Awesome   \n",
       "97      5              Brilliant   \n",
       "98      5  Mind-blowing purchase   \n",
       "99      4            Really Nice   \n",
       "\n",
       "                                          FULL REVIEW  \n",
       "0                Camera Quality Is Improved Loving It  \n",
       "1                                High quality camera😍  \n",
       "2                                             Nice ❤️  \n",
       "3   I love this phone. The camera is amazing: its ...  \n",
       "4                                           Very nice  \n",
       "..                                                ...  \n",
       "95  Best mobile phone\\nCamera quality is very nice...  \n",
       "96  Switch from OnePlus to iPhone I am stunned wit...  \n",
       "97  Totally happy!\\nCamera 5\\nBattery 5\\nDisplay 5...  \n",
       "98                   No doubt this smartphone an art.  \n",
       "99               Awesome camra quality superb camra 😊  \n",
       "\n",
       "[100 rows x 3 columns]"
      ]
     },
     "execution_count": 17,
     "metadata": {},
     "output_type": "execute_result"
    }
   ],
   "source": [
    "df=pd.DataFrame({'RATING':Product_Rating,'REVIEW SUMMARY':Review_summary,'FULL REVIEW':Full_review})\n",
    "df"
   ]
  },
  {
   "cell_type": "markdown",
   "id": "13233643",
   "metadata": {},
   "source": [
    "Question 3"
   ]
  },
  {
   "cell_type": "code",
   "execution_count": 1,
   "id": "5c7bc6f8",
   "metadata": {},
   "outputs": [
    {
     "name": "stdout",
     "output_type": "stream",
     "text": [
      "Requirement already satisfied: selenium in c:\\users\\alsha mohammed\\anaconda3\\lib\\site-packages (4.18.1)\n",
      "Requirement already satisfied: urllib3[socks]<3,>=1.26 in c:\\users\\alsha mohammed\\anaconda3\\lib\\site-packages (from selenium) (1.26.16)\n",
      "Requirement already satisfied: trio~=0.17 in c:\\users\\alsha mohammed\\anaconda3\\lib\\site-packages (from selenium) (0.24.0)\n",
      "Requirement already satisfied: trio-websocket~=0.9 in c:\\users\\alsha mohammed\\anaconda3\\lib\\site-packages (from selenium) (0.11.1)\n",
      "Requirement already satisfied: certifi>=2021.10.8 in c:\\users\\alsha mohammed\\anaconda3\\lib\\site-packages (from selenium) (2023.5.7)\n",
      "Requirement already satisfied: typing_extensions>=4.9.0 in c:\\users\\alsha mohammed\\anaconda3\\lib\\site-packages (from selenium) (4.10.0)\n",
      "Requirement already satisfied: attrs>=20.1.0 in c:\\users\\alsha mohammed\\anaconda3\\lib\\site-packages (from trio~=0.17->selenium) (22.1.0)\n",
      "Requirement already satisfied: sortedcontainers in c:\\users\\alsha mohammed\\anaconda3\\lib\\site-packages (from trio~=0.17->selenium) (2.4.0)\n",
      "Requirement already satisfied: idna in c:\\users\\alsha mohammed\\anaconda3\\lib\\site-packages (from trio~=0.17->selenium) (3.4)\n",
      "Requirement already satisfied: outcome in c:\\users\\alsha mohammed\\anaconda3\\lib\\site-packages (from trio~=0.17->selenium) (1.3.0.post0)\n",
      "Requirement already satisfied: sniffio>=1.3.0 in c:\\users\\alsha mohammed\\anaconda3\\lib\\site-packages (from trio~=0.17->selenium) (1.3.1)\n",
      "Requirement already satisfied: cffi>=1.14 in c:\\users\\alsha mohammed\\anaconda3\\lib\\site-packages (from trio~=0.17->selenium) (1.15.1)\n",
      "Requirement already satisfied: wsproto>=0.14 in c:\\users\\alsha mohammed\\anaconda3\\lib\\site-packages (from trio-websocket~=0.9->selenium) (1.2.0)\n",
      "Requirement already satisfied: PySocks!=1.5.7,<2.0,>=1.5.6 in c:\\users\\alsha mohammed\\anaconda3\\lib\\site-packages (from urllib3[socks]<3,>=1.26->selenium) (1.7.1)\n",
      "Requirement already satisfied: pycparser in c:\\users\\alsha mohammed\\anaconda3\\lib\\site-packages (from cffi>=1.14->trio~=0.17->selenium) (2.21)\n",
      "Requirement already satisfied: h11<1,>=0.9.0 in c:\\users\\alsha mohammed\\anaconda3\\lib\\site-packages (from wsproto>=0.14->trio-websocket~=0.9->selenium) (0.14.0)\n"
     ]
    }
   ],
   "source": [
    "!pip install selenium"
   ]
  },
  {
   "cell_type": "code",
   "execution_count": 4,
   "id": "d32a19d0",
   "metadata": {},
   "outputs": [],
   "source": [
    "import pandas as pd\n",
    "import selenium\n",
    "from selenium import webdriver\n",
    "import warnings\n",
    "warnings.filterwarnings('ignore')\n",
    "from selenium.webdriver.common.by import By\n",
    "import time"
   ]
  },
  {
   "cell_type": "code",
   "execution_count": 5,
   "id": "ba957510",
   "metadata": {},
   "outputs": [],
   "source": [
    "driver=webdriver.Chrome()"
   ]
  },
  {
   "cell_type": "code",
   "execution_count": 48,
   "id": "45b91e06",
   "metadata": {},
   "outputs": [],
   "source": [
    "driver.get('https://www.flipkart.com/apple-iphone-11-black-64-gb/product-reviews/itm4e5041ba101fd?pid=MOBFWQ6BXGJCEYNY&lid=LSTMOBFWQ6BXGJCEYNYZXSHRJ&marketplace=FLIPKART')"
   ]
  },
  {
   "cell_type": "code",
   "execution_count": 49,
   "id": "6b5b78d6",
   "metadata": {},
   "outputs": [],
   "source": [
    "Product_Rating=[]\n",
    "Review_summary=[]\n",
    "Full_review=[]"
   ]
  },
  {
   "cell_type": "code",
   "execution_count": 50,
   "id": "43f48be3",
   "metadata": {},
   "outputs": [],
   "source": [
    "start=0\n",
    "end=10\n",
    "for page in range(start,end):\n",
    "    rating_tags=driver.find_elements(By.XPATH,'//div[@class=\"_3LWZlK _1BLPMq\"]')\n",
    "    for i in rating_tags:\n",
    "        Product_Rating.append(i.text)\n",
    "    \n",
    "start=0\n",
    "end=10\n",
    "for page in range(start,end):\n",
    "    summary_tags=driver.find_elements(By.XPATH,'//p[@class=\"_2-N8zT\"]')\n",
    "    for i in summary_tags:\n",
    "        Review_summary.append(i.text)\n",
    "    \n",
    "start=0\n",
    "end=10\n",
    "for page in range(start,end):\n",
    "    review_tags=driver.find_elements(By.XPATH,'//div[@class=\"t-ZTKy\"]')\n",
    "    for i in review_tags:\n",
    "        Full_review.append(i.text)"
   ]
  },
  {
   "cell_type": "code",
   "execution_count": 51,
   "id": "e4382cf8",
   "metadata": {},
   "outputs": [
    {
     "name": "stdout",
     "output_type": "stream",
     "text": [
      "100 100 100\n"
     ]
    }
   ],
   "source": [
    "print(len(Product_Rating),len(Review_summary),len(Full_review))"
   ]
  },
  {
   "cell_type": "code",
   "execution_count": 52,
   "id": "0076989a",
   "metadata": {},
   "outputs": [
    {
     "data": {
      "text/html": [
       "<div>\n",
       "<style scoped>\n",
       "    .dataframe tbody tr th:only-of-type {\n",
       "        vertical-align: middle;\n",
       "    }\n",
       "\n",
       "    .dataframe tbody tr th {\n",
       "        vertical-align: top;\n",
       "    }\n",
       "\n",
       "    .dataframe thead th {\n",
       "        text-align: right;\n",
       "    }\n",
       "</style>\n",
       "<table border=\"1\" class=\"dataframe\">\n",
       "  <thead>\n",
       "    <tr style=\"text-align: right;\">\n",
       "      <th></th>\n",
       "      <th>RATING</th>\n",
       "      <th>REVIEW SUMMARY</th>\n",
       "      <th>FULL REVIEW</th>\n",
       "    </tr>\n",
       "  </thead>\n",
       "  <tbody>\n",
       "    <tr>\n",
       "      <th>0</th>\n",
       "      <td>5</td>\n",
       "      <td>Worth every penny</td>\n",
       "      <td>Feeling awesome after getting the delivery of ...</td>\n",
       "    </tr>\n",
       "    <tr>\n",
       "      <th>1</th>\n",
       "      <td>5</td>\n",
       "      <td>Best in the market!</td>\n",
       "      <td>Good Camera</td>\n",
       "    </tr>\n",
       "    <tr>\n",
       "      <th>2</th>\n",
       "      <td>5</td>\n",
       "      <td>Wonderful</td>\n",
       "      <td>This is amazing at all</td>\n",
       "    </tr>\n",
       "    <tr>\n",
       "      <th>3</th>\n",
       "      <td>5</td>\n",
       "      <td>Fabulous!</td>\n",
       "      <td>Super🔥 and good performance 👌❤️</td>\n",
       "    </tr>\n",
       "    <tr>\n",
       "      <th>4</th>\n",
       "      <td>5</td>\n",
       "      <td>Terrific</td>\n",
       "      <td>Very very good</td>\n",
       "    </tr>\n",
       "    <tr>\n",
       "      <th>...</th>\n",
       "      <td>...</td>\n",
       "      <td>...</td>\n",
       "      <td>...</td>\n",
       "    </tr>\n",
       "    <tr>\n",
       "      <th>95</th>\n",
       "      <td>5</td>\n",
       "      <td>Classy product</td>\n",
       "      <td>Camera is awesome\\nBest battery backup\\nA perf...</td>\n",
       "    </tr>\n",
       "    <tr>\n",
       "      <th>96</th>\n",
       "      <td>5</td>\n",
       "      <td>Perfect product!</td>\n",
       "      <td>Photos super</td>\n",
       "    </tr>\n",
       "    <tr>\n",
       "      <th>97</th>\n",
       "      <td>5</td>\n",
       "      <td>Terrific purchase</td>\n",
       "      <td>Value for money 😍</td>\n",
       "    </tr>\n",
       "    <tr>\n",
       "      <th>98</th>\n",
       "      <td>5</td>\n",
       "      <td>Just wow!</td>\n",
       "      <td>Perfect Product!!</td>\n",
       "    </tr>\n",
       "    <tr>\n",
       "      <th>99</th>\n",
       "      <td>5</td>\n",
       "      <td>Brilliant</td>\n",
       "      <td>very good camera quality</td>\n",
       "    </tr>\n",
       "  </tbody>\n",
       "</table>\n",
       "<p>100 rows × 3 columns</p>\n",
       "</div>"
      ],
      "text/plain": [
       "   RATING       REVIEW SUMMARY  \\\n",
       "0       5    Worth every penny   \n",
       "1       5  Best in the market!   \n",
       "2       5            Wonderful   \n",
       "3       5            Fabulous!   \n",
       "4       5             Terrific   \n",
       "..    ...                  ...   \n",
       "95      5       Classy product   \n",
       "96      5     Perfect product!   \n",
       "97      5    Terrific purchase   \n",
       "98      5            Just wow!   \n",
       "99      5            Brilliant   \n",
       "\n",
       "                                          FULL REVIEW  \n",
       "0   Feeling awesome after getting the delivery of ...  \n",
       "1                                         Good Camera  \n",
       "2                              This is amazing at all  \n",
       "3                     Super🔥 and good performance 👌❤️  \n",
       "4                                      Very very good  \n",
       "..                                                ...  \n",
       "95  Camera is awesome\\nBest battery backup\\nA perf...  \n",
       "96                                       Photos super  \n",
       "97                                  Value for money 😍  \n",
       "98                                  Perfect Product!!  \n",
       "99                           very good camera quality  \n",
       "\n",
       "[100 rows x 3 columns]"
      ]
     },
     "execution_count": 52,
     "metadata": {},
     "output_type": "execute_result"
    }
   ],
   "source": [
    "df=pd.DataFrame({'RATING':Product_Rating,'REVIEW SUMMARY':Review_summary,'FULL REVIEW':Full_review})\n",
    "df"
   ]
  },
  {
   "cell_type": "markdown",
   "id": "68fbdb0e",
   "metadata": {},
   "source": [
    "QUESTION 4"
   ]
  },
  {
   "cell_type": "code",
   "execution_count": 13,
   "id": "e060c89b",
   "metadata": {},
   "outputs": [],
   "source": [
    "driver.get('https://www.flipkart.com')"
   ]
  },
  {
   "cell_type": "code",
   "execution_count": 14,
   "id": "5eb61144",
   "metadata": {},
   "outputs": [],
   "source": [
    "designation=driver.find_element(By.CLASS_NAME,'Pke_EE')\n",
    "designation.send_keys('sneakers')"
   ]
  },
  {
   "cell_type": "code",
   "execution_count": 15,
   "id": "e70f2d60",
   "metadata": {},
   "outputs": [],
   "source": [
    "search=driver.find_element(By.CLASS_NAME,\"_2iLD__\")\n",
    "search.click()"
   ]
  },
  {
   "cell_type": "code",
   "execution_count": 16,
   "id": "731463c5",
   "metadata": {},
   "outputs": [],
   "source": [
    "Product_Brand=[]\n",
    "Product_Description=[]\n",
    "Product_Price=[]"
   ]
  },
  {
   "cell_type": "code",
   "execution_count": 17,
   "id": "186e3810",
   "metadata": {},
   "outputs": [],
   "source": [
    "start=0\n",
    "end=3\n",
    "for pages in range(start,end):\n",
    "    Brand_tags=driver.find_elements(By.XPATH,'//div[@class=\"_2WkVRV\"]')\n",
    "    for i in Brand_tags:\n",
    "        Product_Brand.append(i.text)\n",
    "next_button=driver.find_element(By.XPATH,'/html/body/div/div/div[3]/div[1]/div[2]/div[12]/div/div/nav/a[11]')\n",
    "next_button.click()\n",
    "time.sleep(3)\n",
    "\n",
    "start=0\n",
    "end=3\n",
    "for pages in range(start,end):\n",
    "    Description_tags=driver.find_elements(By.XPATH,'//div[@class=\"_2B099V\"]/a[1]')\n",
    "    for i in Description_tags[0:100]:\n",
    "        Product_Description.append(i.text)\n",
    "next_button=driver.find_element(By.XPATH,'/html/body/div/div/div[3]/div[1]/div[2]/div[12]/div/div/nav/a[11]')\n",
    "next_button.click()\n",
    "time.sleep(3)\n",
    "\n",
    "start=0\n",
    "end=3\n",
    "for pages in range(start,end):\n",
    "    Price_tags=driver.find_elements(By.XPATH,'//div[@class=\"_30jeq3\"]')\n",
    "    for i in Price_tags[0:100]:\n",
    "        Product_Price.append(i.text)\n",
    "next_button=driver.find_element(By.XPATH,'/html/body/div/div/div[3]/div[1]/div[2]/div[12]/div/div/nav/a[11]')\n",
    "next_button.click()\n",
    "time.sleep(3)"
   ]
  },
  {
   "cell_type": "code",
   "execution_count": 18,
   "id": "e0dd22e2",
   "metadata": {},
   "outputs": [
    {
     "name": "stdout",
     "output_type": "stream",
     "text": [
      "120 120 120\n"
     ]
    }
   ],
   "source": [
    "print(len(Product_Brand),len(Product_Description),len(Product_Price))"
   ]
  },
  {
   "cell_type": "code",
   "execution_count": 20,
   "id": "d960cbd8",
   "metadata": {},
   "outputs": [
    {
     "data": {
      "text/html": [
       "<div>\n",
       "<style scoped>\n",
       "    .dataframe tbody tr th:only-of-type {\n",
       "        vertical-align: middle;\n",
       "    }\n",
       "\n",
       "    .dataframe tbody tr th {\n",
       "        vertical-align: top;\n",
       "    }\n",
       "\n",
       "    .dataframe thead th {\n",
       "        text-align: right;\n",
       "    }\n",
       "</style>\n",
       "<table border=\"1\" class=\"dataframe\">\n",
       "  <thead>\n",
       "    <tr style=\"text-align: right;\">\n",
       "      <th></th>\n",
       "      <th>PRODUCT_BRAND</th>\n",
       "      <th>PRODUCT_DESCRIPTION</th>\n",
       "      <th>PRODUCT_PRICE</th>\n",
       "    </tr>\n",
       "  </thead>\n",
       "  <tbody>\n",
       "    <tr>\n",
       "      <th>0</th>\n",
       "      <td>TR</td>\n",
       "      <td>Thunder-03 Loafers,Casuals,Stylish with Extra ...</td>\n",
       "      <td>₹807</td>\n",
       "    </tr>\n",
       "    <tr>\n",
       "      <th>1</th>\n",
       "      <td>BRUTON</td>\n",
       "      <td>Sneakers For Men</td>\n",
       "      <td>₹1,599</td>\n",
       "    </tr>\n",
       "    <tr>\n",
       "      <th>2</th>\n",
       "      <td>URBANBOX</td>\n",
       "      <td>Shuffle Ultra Sneakers For Men</td>\n",
       "      <td>₹1,506</td>\n",
       "    </tr>\n",
       "    <tr>\n",
       "      <th>3</th>\n",
       "      <td>Deals4you</td>\n",
       "      <td>Premium Casual Shoes for Women Sneakers For Women</td>\n",
       "      <td>₹819</td>\n",
       "    </tr>\n",
       "    <tr>\n",
       "      <th>4</th>\n",
       "      <td>RED TAPE</td>\n",
       "      <td>Casual Stylish Trending Sneakers For Women</td>\n",
       "      <td>₹4,199</td>\n",
       "    </tr>\n",
       "    <tr>\n",
       "      <th>...</th>\n",
       "      <td>...</td>\n",
       "      <td>...</td>\n",
       "      <td>...</td>\n",
       "    </tr>\n",
       "    <tr>\n",
       "      <th>95</th>\n",
       "      <td>HIGHLANDER</td>\n",
       "      <td>Premium Casual Shoes for Women Sneakers For Women</td>\n",
       "      <td>₹1,242</td>\n",
       "    </tr>\n",
       "    <tr>\n",
       "      <th>96</th>\n",
       "      <td>BRUTON</td>\n",
       "      <td>574 Sneakers For Men</td>\n",
       "      <td>₹8,640</td>\n",
       "    </tr>\n",
       "    <tr>\n",
       "      <th>97</th>\n",
       "      <td>BRUTON</td>\n",
       "      <td>XC 72 Sneakers For Men</td>\n",
       "      <td>₹8,640</td>\n",
       "    </tr>\n",
       "    <tr>\n",
       "      <th>98</th>\n",
       "      <td>BIRDE</td>\n",
       "      <td>Ferrari Electron E Pro Sneakers For Men</td>\n",
       "      <td>₹6,599</td>\n",
       "    </tr>\n",
       "    <tr>\n",
       "      <th>99</th>\n",
       "      <td>Labbin</td>\n",
       "      <td>OG-D4 Sneakers For Men</td>\n",
       "      <td>₹1,399</td>\n",
       "    </tr>\n",
       "  </tbody>\n",
       "</table>\n",
       "<p>100 rows × 3 columns</p>\n",
       "</div>"
      ],
      "text/plain": [
       "   PRODUCT_BRAND                                PRODUCT_DESCRIPTION  \\\n",
       "0             TR  Thunder-03 Loafers,Casuals,Stylish with Extra ...   \n",
       "1         BRUTON                                   Sneakers For Men   \n",
       "2       URBANBOX                     Shuffle Ultra Sneakers For Men   \n",
       "3      Deals4you  Premium Casual Shoes for Women Sneakers For Women   \n",
       "4       RED TAPE         Casual Stylish Trending Sneakers For Women   \n",
       "..           ...                                                ...   \n",
       "95    HIGHLANDER  Premium Casual Shoes for Women Sneakers For Women   \n",
       "96        BRUTON                               574 Sneakers For Men   \n",
       "97        BRUTON                             XC 72 Sneakers For Men   \n",
       "98         BIRDE            Ferrari Electron E Pro Sneakers For Men   \n",
       "99        Labbin                             OG-D4 Sneakers For Men   \n",
       "\n",
       "   PRODUCT_PRICE  \n",
       "0           ₹807  \n",
       "1         ₹1,599  \n",
       "2         ₹1,506  \n",
       "3           ₹819  \n",
       "4         ₹4,199  \n",
       "..           ...  \n",
       "95        ₹1,242  \n",
       "96        ₹8,640  \n",
       "97        ₹8,640  \n",
       "98        ₹6,599  \n",
       "99        ₹1,399  \n",
       "\n",
       "[100 rows x 3 columns]"
      ]
     },
     "execution_count": 20,
     "metadata": {},
     "output_type": "execute_result"
    }
   ],
   "source": [
    "df=pd.DataFrame({'PRODUCT_BRAND':Product_Brand[0:100],'PRODUCT_DESCRIPTION':Product_Description[0:100],'PRODUCT_PRICE':Product_Price[0:100]})\n",
    "df"
   ]
  },
  {
   "cell_type": "markdown",
   "id": "c2bcee89",
   "metadata": {},
   "source": [
    "QUESTION 5"
   ]
  },
  {
   "cell_type": "code",
   "execution_count": 49,
   "id": "f0052d41",
   "metadata": {},
   "outputs": [],
   "source": [
    "import pandas as pd\n",
    "import selenium\n",
    "from selenium import webdriver\n",
    "import warnings\n",
    "warnings.filterwarnings('ignore')\n",
    "from selenium.webdriver.common.by import By\n",
    "import time"
   ]
  },
  {
   "cell_type": "code",
   "execution_count": 50,
   "id": "df91518f",
   "metadata": {},
   "outputs": [],
   "source": [
    "driver=webdriver.Chrome()"
   ]
  },
  {
   "cell_type": "code",
   "execution_count": 85,
   "id": "561846c2",
   "metadata": {},
   "outputs": [],
   "source": [
    "driver.get('https://www.amazon.in/')"
   ]
  },
  {
   "cell_type": "code",
   "execution_count": 86,
   "id": "03fc1ef3",
   "metadata": {},
   "outputs": [],
   "source": [
    "Product=driver.find_element(By.XPATH,'/html/body/div[1]/header/div/div[1]/div[2]/div/form/div[2]/div[1]/input')\n",
    "Product.send_keys('Laptop')"
   ]
  },
  {
   "cell_type": "code",
   "execution_count": 87,
   "id": "0d81cf2a",
   "metadata": {},
   "outputs": [],
   "source": [
    "search=driver.find_element(By.CLASS_NAME,\"nav-right\")\n",
    "search.click()"
   ]
  },
  {
   "cell_type": "code",
   "execution_count": 88,
   "id": "3a00a359",
   "metadata": {},
   "outputs": [],
   "source": [
    "CPU_Type_filter = driver.find_element(By.XPATH,'//div[@class=\"a-section a-spacing-small\"]/span')\n",
    "CPU_Type_filter.click()"
   ]
  },
  {
   "cell_type": "code",
   "execution_count": 89,
   "id": "2a469db8",
   "metadata": {},
   "outputs": [],
   "source": [
    "core_i7_option = driver.find_element(By.XPATH,'//span[@class=\"a-size-base a-color-base\"]')\n",
    "core_i7_option.click()"
   ]
  },
  {
   "cell_type": "code",
   "execution_count": 97,
   "id": "043bdbdb",
   "metadata": {},
   "outputs": [],
   "source": [
    "Title=[]\n",
    "Ratings=[]\n",
    "Price=[]"
   ]
  },
  {
   "cell_type": "code",
   "execution_count": 98,
   "id": "82f6bbed",
   "metadata": {},
   "outputs": [],
   "source": [
    "start=0\n",
    "end=1\n",
    "for i in range(start,end):\n",
    "    Title_tags=driver.find_elements(By.XPATH,'//h2[@class=\"a-size-mini a-spacing-none a-color-base s-line-clamp-2\"]')\n",
    "    for i in Title_tags:\n",
    "        Title.append(i.text)\n",
    "start=0\n",
    "end=1\n",
    "for i in range(start,end):\n",
    "    Ratings_tags=driver.find_elements(By.XPATH,'//div[@class=\"a-row a-size-small\"]')\n",
    "    for i in Ratings_tags:\n",
    "        Ratings.append(i.text)\n",
    "start=0\n",
    "end=1\n",
    "for i in range(start,end):\n",
    "    Price_tags=driver.find_elements(By.XPATH,'//span[@class=\"a-price-whole\"]')\n",
    "    for i in Price_tags:\n",
    "        Price.append(i.text)"
   ]
  },
  {
   "cell_type": "code",
   "execution_count": 99,
   "id": "aba7678b",
   "metadata": {},
   "outputs": [
    {
     "name": "stdout",
     "output_type": "stream",
     "text": [
      "10 10 10\n"
     ]
    }
   ],
   "source": [
    "print(len(Title[0:10]),len(Ratings[0:10]),len(Price[0:10]))"
   ]
  },
  {
   "cell_type": "code",
   "execution_count": 100,
   "id": "d60d734f",
   "metadata": {},
   "outputs": [
    {
     "data": {
      "text/html": [
       "<div>\n",
       "<style scoped>\n",
       "    .dataframe tbody tr th:only-of-type {\n",
       "        vertical-align: middle;\n",
       "    }\n",
       "\n",
       "    .dataframe tbody tr th {\n",
       "        vertical-align: top;\n",
       "    }\n",
       "\n",
       "    .dataframe thead th {\n",
       "        text-align: right;\n",
       "    }\n",
       "</style>\n",
       "<table border=\"1\" class=\"dataframe\">\n",
       "  <thead>\n",
       "    <tr style=\"text-align: right;\">\n",
       "      <th></th>\n",
       "      <th>TITLE</th>\n",
       "      <th>RATINGS</th>\n",
       "      <th>PRICE</th>\n",
       "    </tr>\n",
       "  </thead>\n",
       "  <tbody>\n",
       "    <tr>\n",
       "      <th>0</th>\n",
       "      <td>Apple 2023 MacBook Air laptop with M2 chip: 38...</td>\n",
       "      <td>53</td>\n",
       "      <td>1,15,900</td>\n",
       "    </tr>\n",
       "    <tr>\n",
       "      <th>1</th>\n",
       "      <td>Apple 2023 MacBook Pro (14-inch, M3 chip with ...</td>\n",
       "      <td>9</td>\n",
       "      <td>1,89,900</td>\n",
       "    </tr>\n",
       "    <tr>\n",
       "      <th>2</th>\n",
       "      <td>HP Laptop 15s, 12th Gen Intel Core i3, 15.6-in...</td>\n",
       "      <td>2,360</td>\n",
       "      <td>37,490</td>\n",
       "    </tr>\n",
       "    <tr>\n",
       "      <th>3</th>\n",
       "      <td>(Refurbished) HP C640 10th Gen Intel Core i5 T...</td>\n",
       "      <td>2,360</td>\n",
       "      <td>17,999</td>\n",
       "    </tr>\n",
       "    <tr>\n",
       "      <th>4</th>\n",
       "      <td>HP Laptop 15s, 12th Gen Intel Core i5-1235U, 1...</td>\n",
       "      <td>3,916</td>\n",
       "      <td>53,800</td>\n",
       "    </tr>\n",
       "    <tr>\n",
       "      <th>5</th>\n",
       "      <td>TECNO MEGABOOK T1, Intel Core 11th Gen i3 Proc...</td>\n",
       "      <td>1,253</td>\n",
       "      <td>16,990</td>\n",
       "    </tr>\n",
       "    <tr>\n",
       "      <th>6</th>\n",
       "      <td>HP Laptop 14s, 12th Gen Intel Core i3-1215U, 1...</td>\n",
       "      <td>1,119</td>\n",
       "      <td>32,990</td>\n",
       "    </tr>\n",
       "    <tr>\n",
       "      <th>7</th>\n",
       "      <td>Lenovo V15 G4 AMD Athlon Silver 7120U Laptop 8...</td>\n",
       "      <td>545</td>\n",
       "      <td>52,990</td>\n",
       "    </tr>\n",
       "    <tr>\n",
       "      <th>8</th>\n",
       "      <td>ASUS VivoBook 15 (2021), 15.6-inch (39.62 cm) ...</td>\n",
       "      <td></td>\n",
       "      <td>76,490</td>\n",
       "    </tr>\n",
       "    <tr>\n",
       "      <th>9</th>\n",
       "      <td>HP Pavilion X360 11th Gen Intel Core i7 14\" (3...</td>\n",
       "      <td></td>\n",
       "      <td></td>\n",
       "    </tr>\n",
       "  </tbody>\n",
       "</table>\n",
       "</div>"
      ],
      "text/plain": [
       "                                               TITLE RATINGS     PRICE\n",
       "0  Apple 2023 MacBook Air laptop with M2 chip: 38...      53  1,15,900\n",
       "1  Apple 2023 MacBook Pro (14-inch, M3 chip with ...       9  1,89,900\n",
       "2  HP Laptop 15s, 12th Gen Intel Core i3, 15.6-in...   2,360    37,490\n",
       "3  (Refurbished) HP C640 10th Gen Intel Core i5 T...   2,360    17,999\n",
       "4  HP Laptop 15s, 12th Gen Intel Core i5-1235U, 1...   3,916    53,800\n",
       "5  TECNO MEGABOOK T1, Intel Core 11th Gen i3 Proc...   1,253    16,990\n",
       "6  HP Laptop 14s, 12th Gen Intel Core i3-1215U, 1...   1,119    32,990\n",
       "7  Lenovo V15 G4 AMD Athlon Silver 7120U Laptop 8...     545    52,990\n",
       "8  ASUS VivoBook 15 (2021), 15.6-inch (39.62 cm) ...            76,490\n",
       "9  HP Pavilion X360 11th Gen Intel Core i7 14\" (3...                  "
      ]
     },
     "execution_count": 100,
     "metadata": {},
     "output_type": "execute_result"
    }
   ],
   "source": [
    "df=pd.DataFrame({'TITLE':Title[0:10],'RATINGS':Ratings[0:10],'PRICE':Price[0:10]})\n",
    "df"
   ]
  },
  {
   "cell_type": "markdown",
   "id": "cc708b95",
   "metadata": {},
   "source": [
    "QUESTION 8"
   ]
  },
  {
   "cell_type": "code",
   "execution_count": 84,
   "id": "6858a324",
   "metadata": {},
   "outputs": [],
   "source": [
    "import pandas as pd\n",
    "import selenium\n",
    "from selenium import webdriver\n",
    "import warnings\n",
    "warnings.filterwarnings('ignore')\n",
    "from selenium.webdriver.common.by import By\n",
    "import time"
   ]
  },
  {
   "cell_type": "code",
   "execution_count": 11,
   "id": "99785877",
   "metadata": {},
   "outputs": [],
   "source": [
    "driver=webdriver.Chrome()"
   ]
  },
  {
   "cell_type": "code",
   "execution_count": 36,
   "id": "e35f62f5",
   "metadata": {},
   "outputs": [],
   "source": [
    "driver.get('https://www.motor1.com/')"
   ]
  },
  {
   "cell_type": "code",
   "execution_count": 37,
   "id": "0aac549f",
   "metadata": {},
   "outputs": [
    {
     "ename": "NoSuchElementException",
     "evalue": "Message: no such element: Unable to locate element: {\"method\":\"xpath\",\"selector\":\"/html/body/div[9]/div[2]/div/div/div[3]/div/div/div/form/input\"}\n  (Session info: chrome=122.0.6261.112); For documentation on this error, please visit: https://www.selenium.dev/documentation/webdriver/troubleshooting/errors#no-such-element-exception\nStacktrace:\n\tGetHandleVerifier [0x00007FF604E4AD02+56930]\n\t(No symbol) [0x00007FF604DBF602]\n\t(No symbol) [0x00007FF604C742E5]\n\t(No symbol) [0x00007FF604CB98ED]\n\t(No symbol) [0x00007FF604CB9A2C]\n\t(No symbol) [0x00007FF604CFA967]\n\t(No symbol) [0x00007FF604CDBCDF]\n\t(No symbol) [0x00007FF604CF81E2]\n\t(No symbol) [0x00007FF604CDBA43]\n\t(No symbol) [0x00007FF604CAD438]\n\t(No symbol) [0x00007FF604CAE4D1]\n\tGetHandleVerifier [0x00007FF6051C6F8D+3711213]\n\tGetHandleVerifier [0x00007FF6052204CD+4077101]\n\tGetHandleVerifier [0x00007FF60521865F+4044735]\n\tGetHandleVerifier [0x00007FF604EE9736+706710]\n\t(No symbol) [0x00007FF604DCB8DF]\n\t(No symbol) [0x00007FF604DC6AC4]\n\t(No symbol) [0x00007FF604DC6C1C]\n\t(No symbol) [0x00007FF604DB68D4]\n\tBaseThreadInitThunk [0x00007FFE4C56257D+29]\n\tRtlUserThreadStart [0x00007FFE4DF0AA58+40]\n",
     "output_type": "error",
     "traceback": [
      "\u001b[1;31m---------------------------------------------------------------------------\u001b[0m",
      "\u001b[1;31mNoSuchElementException\u001b[0m                    Traceback (most recent call last)",
      "Cell \u001b[1;32mIn[37], line 1\u001b[0m\n\u001b[1;32m----> 1\u001b[0m Expensive_Car\u001b[38;5;241m=\u001b[39mdriver\u001b[38;5;241m.\u001b[39mfind_element(By\u001b[38;5;241m.\u001b[39mXPATH,\u001b[38;5;124m'\u001b[39m\u001b[38;5;124m/html/body/div[9]/div[2]/div/div/div[3]/div/div/div/form/input\u001b[39m\u001b[38;5;124m'\u001b[39m)\n\u001b[0;32m      2\u001b[0m Expensive_Car\u001b[38;5;241m.\u001b[39msend_keys(\u001b[38;5;124m'\u001b[39m\u001b[38;5;124m50 most expensive cars\u001b[39m\u001b[38;5;124m'\u001b[39m)\n",
      "File \u001b[1;32m~\\anaconda3\\Lib\\site-packages\\selenium\\webdriver\\remote\\webdriver.py:741\u001b[0m, in \u001b[0;36mWebDriver.find_element\u001b[1;34m(self, by, value)\u001b[0m\n\u001b[0;32m    738\u001b[0m     by \u001b[38;5;241m=\u001b[39m By\u001b[38;5;241m.\u001b[39mCSS_SELECTOR\n\u001b[0;32m    739\u001b[0m     value \u001b[38;5;241m=\u001b[39m \u001b[38;5;124mf\u001b[39m\u001b[38;5;124m'\u001b[39m\u001b[38;5;124m[name=\u001b[39m\u001b[38;5;124m\"\u001b[39m\u001b[38;5;132;01m{\u001b[39;00mvalue\u001b[38;5;132;01m}\u001b[39;00m\u001b[38;5;124m\"\u001b[39m\u001b[38;5;124m]\u001b[39m\u001b[38;5;124m'\u001b[39m\n\u001b[1;32m--> 741\u001b[0m \u001b[38;5;28;01mreturn\u001b[39;00m \u001b[38;5;28mself\u001b[39m\u001b[38;5;241m.\u001b[39mexecute(Command\u001b[38;5;241m.\u001b[39mFIND_ELEMENT, {\u001b[38;5;124m\"\u001b[39m\u001b[38;5;124musing\u001b[39m\u001b[38;5;124m\"\u001b[39m: by, \u001b[38;5;124m\"\u001b[39m\u001b[38;5;124mvalue\u001b[39m\u001b[38;5;124m\"\u001b[39m: value})[\u001b[38;5;124m\"\u001b[39m\u001b[38;5;124mvalue\u001b[39m\u001b[38;5;124m\"\u001b[39m]\n",
      "File \u001b[1;32m~\\anaconda3\\Lib\\site-packages\\selenium\\webdriver\\remote\\webdriver.py:347\u001b[0m, in \u001b[0;36mWebDriver.execute\u001b[1;34m(self, driver_command, params)\u001b[0m\n\u001b[0;32m    345\u001b[0m response \u001b[38;5;241m=\u001b[39m \u001b[38;5;28mself\u001b[39m\u001b[38;5;241m.\u001b[39mcommand_executor\u001b[38;5;241m.\u001b[39mexecute(driver_command, params)\n\u001b[0;32m    346\u001b[0m \u001b[38;5;28;01mif\u001b[39;00m response:\n\u001b[1;32m--> 347\u001b[0m     \u001b[38;5;28mself\u001b[39m\u001b[38;5;241m.\u001b[39merror_handler\u001b[38;5;241m.\u001b[39mcheck_response(response)\n\u001b[0;32m    348\u001b[0m     response[\u001b[38;5;124m\"\u001b[39m\u001b[38;5;124mvalue\u001b[39m\u001b[38;5;124m\"\u001b[39m] \u001b[38;5;241m=\u001b[39m \u001b[38;5;28mself\u001b[39m\u001b[38;5;241m.\u001b[39m_unwrap_value(response\u001b[38;5;241m.\u001b[39mget(\u001b[38;5;124m\"\u001b[39m\u001b[38;5;124mvalue\u001b[39m\u001b[38;5;124m\"\u001b[39m, \u001b[38;5;28;01mNone\u001b[39;00m))\n\u001b[0;32m    349\u001b[0m     \u001b[38;5;28;01mreturn\u001b[39;00m response\n",
      "File \u001b[1;32m~\\anaconda3\\Lib\\site-packages\\selenium\\webdriver\\remote\\errorhandler.py:229\u001b[0m, in \u001b[0;36mErrorHandler.check_response\u001b[1;34m(self, response)\u001b[0m\n\u001b[0;32m    227\u001b[0m         alert_text \u001b[38;5;241m=\u001b[39m value[\u001b[38;5;124m\"\u001b[39m\u001b[38;5;124malert\u001b[39m\u001b[38;5;124m\"\u001b[39m]\u001b[38;5;241m.\u001b[39mget(\u001b[38;5;124m\"\u001b[39m\u001b[38;5;124mtext\u001b[39m\u001b[38;5;124m\"\u001b[39m)\n\u001b[0;32m    228\u001b[0m     \u001b[38;5;28;01mraise\u001b[39;00m exception_class(message, screen, stacktrace, alert_text)  \u001b[38;5;66;03m# type: ignore[call-arg]  # mypy is not smart enough here\u001b[39;00m\n\u001b[1;32m--> 229\u001b[0m \u001b[38;5;28;01mraise\u001b[39;00m exception_class(message, screen, stacktrace)\n",
      "\u001b[1;31mNoSuchElementException\u001b[0m: Message: no such element: Unable to locate element: {\"method\":\"xpath\",\"selector\":\"/html/body/div[9]/div[2]/div/div/div[3]/div/div/div/form/input\"}\n  (Session info: chrome=122.0.6261.112); For documentation on this error, please visit: https://www.selenium.dev/documentation/webdriver/troubleshooting/errors#no-such-element-exception\nStacktrace:\n\tGetHandleVerifier [0x00007FF604E4AD02+56930]\n\t(No symbol) [0x00007FF604DBF602]\n\t(No symbol) [0x00007FF604C742E5]\n\t(No symbol) [0x00007FF604CB98ED]\n\t(No symbol) [0x00007FF604CB9A2C]\n\t(No symbol) [0x00007FF604CFA967]\n\t(No symbol) [0x00007FF604CDBCDF]\n\t(No symbol) [0x00007FF604CF81E2]\n\t(No symbol) [0x00007FF604CDBA43]\n\t(No symbol) [0x00007FF604CAD438]\n\t(No symbol) [0x00007FF604CAE4D1]\n\tGetHandleVerifier [0x00007FF6051C6F8D+3711213]\n\tGetHandleVerifier [0x00007FF6052204CD+4077101]\n\tGetHandleVerifier [0x00007FF60521865F+4044735]\n\tGetHandleVerifier [0x00007FF604EE9736+706710]\n\t(No symbol) [0x00007FF604DCB8DF]\n\t(No symbol) [0x00007FF604DC6AC4]\n\t(No symbol) [0x00007FF604DC6C1C]\n\t(No symbol) [0x00007FF604DB68D4]\n\tBaseThreadInitThunk [0x00007FFE4C56257D+29]\n\tRtlUserThreadStart [0x00007FFE4DF0AA58+40]\n"
     ]
    }
   ],
   "source": [
    "Expensive_Car=driver.find_element(By.XPATH,'/html/body/div[9]/div[2]/div/div/div[3]/div/div/div/form/input')\n",
    "Expensive_Car.send_keys('50 most expensive cars')"
   ]
  },
  {
   "cell_type": "code",
   "execution_count": 30,
   "id": "278e30b7",
   "metadata": {},
   "outputs": [],
   "source": [
    "search=driver.find_element(By.XPATH,\"/html/body/div[9]/div[2]/div/div/div[3]/div/div/div/form/button[1]\")\n",
    "search.click()"
   ]
  },
  {
   "cell_type": "code",
   "execution_count": 33,
   "id": "f154d1af",
   "metadata": {},
   "outputs": [
    {
     "ename": "NoSuchElementException",
     "evalue": "Message: no such element: Unable to locate element: {\"method\":\"xpath\",\"selector\":\"/html/body/div[9]/div[9]/div/div[1]/div/div/div[1]/div/div[1]/h3/a\"}\n  (Session info: chrome=122.0.6261.112); For documentation on this error, please visit: https://www.selenium.dev/documentation/webdriver/troubleshooting/errors#no-such-element-exception\nStacktrace:\n\tGetHandleVerifier [0x00007FF604E4AD02+56930]\n\t(No symbol) [0x00007FF604DBF602]\n\t(No symbol) [0x00007FF604C742E5]\n\t(No symbol) [0x00007FF604CB98ED]\n\t(No symbol) [0x00007FF604CB9A2C]\n\t(No symbol) [0x00007FF604CFA967]\n\t(No symbol) [0x00007FF604CDBCDF]\n\t(No symbol) [0x00007FF604CF81E2]\n\t(No symbol) [0x00007FF604CDBA43]\n\t(No symbol) [0x00007FF604CAD438]\n\t(No symbol) [0x00007FF604CAE4D1]\n\tGetHandleVerifier [0x00007FF6051C6F8D+3711213]\n\tGetHandleVerifier [0x00007FF6052204CD+4077101]\n\tGetHandleVerifier [0x00007FF60521865F+4044735]\n\tGetHandleVerifier [0x00007FF604EE9736+706710]\n\t(No symbol) [0x00007FF604DCB8DF]\n\t(No symbol) [0x00007FF604DC6AC4]\n\t(No symbol) [0x00007FF604DC6C1C]\n\t(No symbol) [0x00007FF604DB68D4]\n\tBaseThreadInitThunk [0x00007FFE4C56257D+29]\n\tRtlUserThreadStart [0x00007FFE4DF0AA58+40]\n",
     "output_type": "error",
     "traceback": [
      "\u001b[1;31m---------------------------------------------------------------------------\u001b[0m",
      "\u001b[1;31mNoSuchElementException\u001b[0m                    Traceback (most recent call last)",
      "Cell \u001b[1;32mIn[33], line 1\u001b[0m\n\u001b[1;32m----> 1\u001b[0m search\u001b[38;5;241m=\u001b[39mdriver\u001b[38;5;241m.\u001b[39mfind_element(By\u001b[38;5;241m.\u001b[39mXPATH,\u001b[38;5;124m\"\u001b[39m\u001b[38;5;124m/html/body/div[9]/div[9]/div/div[1]/div/div/div[1]/div/div[1]/h3/a\u001b[39m\u001b[38;5;124m\"\u001b[39m)\n\u001b[0;32m      2\u001b[0m search\u001b[38;5;241m.\u001b[39mclick()\n",
      "File \u001b[1;32m~\\anaconda3\\Lib\\site-packages\\selenium\\webdriver\\remote\\webdriver.py:741\u001b[0m, in \u001b[0;36mWebDriver.find_element\u001b[1;34m(self, by, value)\u001b[0m\n\u001b[0;32m    738\u001b[0m     by \u001b[38;5;241m=\u001b[39m By\u001b[38;5;241m.\u001b[39mCSS_SELECTOR\n\u001b[0;32m    739\u001b[0m     value \u001b[38;5;241m=\u001b[39m \u001b[38;5;124mf\u001b[39m\u001b[38;5;124m'\u001b[39m\u001b[38;5;124m[name=\u001b[39m\u001b[38;5;124m\"\u001b[39m\u001b[38;5;132;01m{\u001b[39;00mvalue\u001b[38;5;132;01m}\u001b[39;00m\u001b[38;5;124m\"\u001b[39m\u001b[38;5;124m]\u001b[39m\u001b[38;5;124m'\u001b[39m\n\u001b[1;32m--> 741\u001b[0m \u001b[38;5;28;01mreturn\u001b[39;00m \u001b[38;5;28mself\u001b[39m\u001b[38;5;241m.\u001b[39mexecute(Command\u001b[38;5;241m.\u001b[39mFIND_ELEMENT, {\u001b[38;5;124m\"\u001b[39m\u001b[38;5;124musing\u001b[39m\u001b[38;5;124m\"\u001b[39m: by, \u001b[38;5;124m\"\u001b[39m\u001b[38;5;124mvalue\u001b[39m\u001b[38;5;124m\"\u001b[39m: value})[\u001b[38;5;124m\"\u001b[39m\u001b[38;5;124mvalue\u001b[39m\u001b[38;5;124m\"\u001b[39m]\n",
      "File \u001b[1;32m~\\anaconda3\\Lib\\site-packages\\selenium\\webdriver\\remote\\webdriver.py:347\u001b[0m, in \u001b[0;36mWebDriver.execute\u001b[1;34m(self, driver_command, params)\u001b[0m\n\u001b[0;32m    345\u001b[0m response \u001b[38;5;241m=\u001b[39m \u001b[38;5;28mself\u001b[39m\u001b[38;5;241m.\u001b[39mcommand_executor\u001b[38;5;241m.\u001b[39mexecute(driver_command, params)\n\u001b[0;32m    346\u001b[0m \u001b[38;5;28;01mif\u001b[39;00m response:\n\u001b[1;32m--> 347\u001b[0m     \u001b[38;5;28mself\u001b[39m\u001b[38;5;241m.\u001b[39merror_handler\u001b[38;5;241m.\u001b[39mcheck_response(response)\n\u001b[0;32m    348\u001b[0m     response[\u001b[38;5;124m\"\u001b[39m\u001b[38;5;124mvalue\u001b[39m\u001b[38;5;124m\"\u001b[39m] \u001b[38;5;241m=\u001b[39m \u001b[38;5;28mself\u001b[39m\u001b[38;5;241m.\u001b[39m_unwrap_value(response\u001b[38;5;241m.\u001b[39mget(\u001b[38;5;124m\"\u001b[39m\u001b[38;5;124mvalue\u001b[39m\u001b[38;5;124m\"\u001b[39m, \u001b[38;5;28;01mNone\u001b[39;00m))\n\u001b[0;32m    349\u001b[0m     \u001b[38;5;28;01mreturn\u001b[39;00m response\n",
      "File \u001b[1;32m~\\anaconda3\\Lib\\site-packages\\selenium\\webdriver\\remote\\errorhandler.py:229\u001b[0m, in \u001b[0;36mErrorHandler.check_response\u001b[1;34m(self, response)\u001b[0m\n\u001b[0;32m    227\u001b[0m         alert_text \u001b[38;5;241m=\u001b[39m value[\u001b[38;5;124m\"\u001b[39m\u001b[38;5;124malert\u001b[39m\u001b[38;5;124m\"\u001b[39m]\u001b[38;5;241m.\u001b[39mget(\u001b[38;5;124m\"\u001b[39m\u001b[38;5;124mtext\u001b[39m\u001b[38;5;124m\"\u001b[39m)\n\u001b[0;32m    228\u001b[0m     \u001b[38;5;28;01mraise\u001b[39;00m exception_class(message, screen, stacktrace, alert_text)  \u001b[38;5;66;03m# type: ignore[call-arg]  # mypy is not smart enough here\u001b[39;00m\n\u001b[1;32m--> 229\u001b[0m \u001b[38;5;28;01mraise\u001b[39;00m exception_class(message, screen, stacktrace)\n",
      "\u001b[1;31mNoSuchElementException\u001b[0m: Message: no such element: Unable to locate element: {\"method\":\"xpath\",\"selector\":\"/html/body/div[9]/div[9]/div/div[1]/div/div/div[1]/div/div[1]/h3/a\"}\n  (Session info: chrome=122.0.6261.112); For documentation on this error, please visit: https://www.selenium.dev/documentation/webdriver/troubleshooting/errors#no-such-element-exception\nStacktrace:\n\tGetHandleVerifier [0x00007FF604E4AD02+56930]\n\t(No symbol) [0x00007FF604DBF602]\n\t(No symbol) [0x00007FF604C742E5]\n\t(No symbol) [0x00007FF604CB98ED]\n\t(No symbol) [0x00007FF604CB9A2C]\n\t(No symbol) [0x00007FF604CFA967]\n\t(No symbol) [0x00007FF604CDBCDF]\n\t(No symbol) [0x00007FF604CF81E2]\n\t(No symbol) [0x00007FF604CDBA43]\n\t(No symbol) [0x00007FF604CAD438]\n\t(No symbol) [0x00007FF604CAE4D1]\n\tGetHandleVerifier [0x00007FF6051C6F8D+3711213]\n\tGetHandleVerifier [0x00007FF6052204CD+4077101]\n\tGetHandleVerifier [0x00007FF60521865F+4044735]\n\tGetHandleVerifier [0x00007FF604EE9736+706710]\n\t(No symbol) [0x00007FF604DCB8DF]\n\t(No symbol) [0x00007FF604DC6AC4]\n\t(No symbol) [0x00007FF604DC6C1C]\n\t(No symbol) [0x00007FF604DB68D4]\n\tBaseThreadInitThunk [0x00007FFE4C56257D+29]\n\tRtlUserThreadStart [0x00007FFE4DF0AA58+40]\n"
     ]
    }
   ],
   "source": [
    "search=driver.find_element(By.XPATH,\"/html/body/div[9]/div[9]/div/div[1]/div/div/div[1]/div/div[1]/h3/a\")\n",
    "search.click()"
   ]
  },
  {
   "cell_type": "code",
   "execution_count": null,
   "id": "42ae5ee4",
   "metadata": {},
   "outputs": [],
   "source": [
    "Car_Name=[]\n",
    "Car_Price=[]"
   ]
  },
  {
   "cell_type": "code",
   "execution_count": 10,
   "id": "e16c7b1f",
   "metadata": {},
   "outputs": [
    {
     "ename": "InvalidSelectorException",
     "evalue": "Message: invalid selector: An invalid or illegal selector was specified\n  (Session info: chrome=122.0.6261.112); For documentation on this error, please visit: https://www.selenium.dev/documentation/webdriver/troubleshooting/errors#invalid-selector-exception\nStacktrace:\n\tGetHandleVerifier [0x00007FF604E4AD02+56930]\n\t(No symbol) [0x00007FF604DBF602]\n\t(No symbol) [0x00007FF604C742E5]\n\t(No symbol) [0x00007FF604C79261]\n\t(No symbol) [0x00007FF604C7B6EB]\n\t(No symbol) [0x00007FF604C7B7B0]\n\t(No symbol) [0x00007FF604CB955C]\n\t(No symbol) [0x00007FF604CB9A2C]\n\t(No symbol) [0x00007FF604CFA997]\n\t(No symbol) [0x00007FF604CDBCDF]\n\t(No symbol) [0x00007FF604CF81E2]\n\t(No symbol) [0x00007FF604CDBA43]\n\t(No symbol) [0x00007FF604CAD438]\n\t(No symbol) [0x00007FF604CAE4D1]\n\tGetHandleVerifier [0x00007FF6051C6F8D+3711213]\n\tGetHandleVerifier [0x00007FF6052204CD+4077101]\n\tGetHandleVerifier [0x00007FF60521865F+4044735]\n\tGetHandleVerifier [0x00007FF604EE9736+706710]\n\t(No symbol) [0x00007FF604DCB8DF]\n\t(No symbol) [0x00007FF604DC6AC4]\n\t(No symbol) [0x00007FF604DC6C1C]\n\t(No symbol) [0x00007FF604DB68D4]\n\tBaseThreadInitThunk [0x00007FFE4C56257D+29]\n\tRtlUserThreadStart [0x00007FFE4DF0AA58+40]\n",
     "output_type": "error",
     "traceback": [
      "\u001b[1;31m---------------------------------------------------------------------------\u001b[0m",
      "\u001b[1;31mInvalidSelectorException\u001b[0m                  Traceback (most recent call last)",
      "Cell \u001b[1;32mIn[10], line 1\u001b[0m\n\u001b[1;32m----> 1\u001b[0m Name_tags\u001b[38;5;241m=\u001b[39mdriver\u001b[38;5;241m.\u001b[39mfind_elements(By\u001b[38;5;241m.\u001b[39mCLASS_NAME,\u001b[38;5;124m'\u001b[39m\u001b[38;5;124m//h3[@class=\u001b[39m\u001b[38;5;124m\"\u001b[39m\u001b[38;5;124msubheader\u001b[39m\u001b[38;5;124m\"\u001b[39m\u001b[38;5;124m]\u001b[39m\u001b[38;5;124m'\u001b[39m)\n\u001b[0;32m      2\u001b[0m \u001b[38;5;28;01mfor\u001b[39;00m i \u001b[38;5;129;01min\u001b[39;00m Name_tags:\n\u001b[0;32m      3\u001b[0m     Car_Name\u001b[38;5;241m.\u001b[39mappend(i\u001b[38;5;241m.\u001b[39mtext)\n",
      "File \u001b[1;32m~\\anaconda3\\Lib\\site-packages\\selenium\\webdriver\\remote\\webdriver.py:771\u001b[0m, in \u001b[0;36mWebDriver.find_elements\u001b[1;34m(self, by, value)\u001b[0m\n\u001b[0;32m    767\u001b[0m     value \u001b[38;5;241m=\u001b[39m \u001b[38;5;124mf\u001b[39m\u001b[38;5;124m'\u001b[39m\u001b[38;5;124m[name=\u001b[39m\u001b[38;5;124m\"\u001b[39m\u001b[38;5;132;01m{\u001b[39;00mvalue\u001b[38;5;132;01m}\u001b[39;00m\u001b[38;5;124m\"\u001b[39m\u001b[38;5;124m]\u001b[39m\u001b[38;5;124m'\u001b[39m\n\u001b[0;32m    769\u001b[0m \u001b[38;5;66;03m# Return empty list if driver returns null\u001b[39;00m\n\u001b[0;32m    770\u001b[0m \u001b[38;5;66;03m# See https://github.com/SeleniumHQ/selenium/issues/4555\u001b[39;00m\n\u001b[1;32m--> 771\u001b[0m \u001b[38;5;28;01mreturn\u001b[39;00m \u001b[38;5;28mself\u001b[39m\u001b[38;5;241m.\u001b[39mexecute(Command\u001b[38;5;241m.\u001b[39mFIND_ELEMENTS, {\u001b[38;5;124m\"\u001b[39m\u001b[38;5;124musing\u001b[39m\u001b[38;5;124m\"\u001b[39m: by, \u001b[38;5;124m\"\u001b[39m\u001b[38;5;124mvalue\u001b[39m\u001b[38;5;124m\"\u001b[39m: value})[\u001b[38;5;124m\"\u001b[39m\u001b[38;5;124mvalue\u001b[39m\u001b[38;5;124m\"\u001b[39m] \u001b[38;5;129;01mor\u001b[39;00m []\n",
      "File \u001b[1;32m~\\anaconda3\\Lib\\site-packages\\selenium\\webdriver\\remote\\webdriver.py:347\u001b[0m, in \u001b[0;36mWebDriver.execute\u001b[1;34m(self, driver_command, params)\u001b[0m\n\u001b[0;32m    345\u001b[0m response \u001b[38;5;241m=\u001b[39m \u001b[38;5;28mself\u001b[39m\u001b[38;5;241m.\u001b[39mcommand_executor\u001b[38;5;241m.\u001b[39mexecute(driver_command, params)\n\u001b[0;32m    346\u001b[0m \u001b[38;5;28;01mif\u001b[39;00m response:\n\u001b[1;32m--> 347\u001b[0m     \u001b[38;5;28mself\u001b[39m\u001b[38;5;241m.\u001b[39merror_handler\u001b[38;5;241m.\u001b[39mcheck_response(response)\n\u001b[0;32m    348\u001b[0m     response[\u001b[38;5;124m\"\u001b[39m\u001b[38;5;124mvalue\u001b[39m\u001b[38;5;124m\"\u001b[39m] \u001b[38;5;241m=\u001b[39m \u001b[38;5;28mself\u001b[39m\u001b[38;5;241m.\u001b[39m_unwrap_value(response\u001b[38;5;241m.\u001b[39mget(\u001b[38;5;124m\"\u001b[39m\u001b[38;5;124mvalue\u001b[39m\u001b[38;5;124m\"\u001b[39m, \u001b[38;5;28;01mNone\u001b[39;00m))\n\u001b[0;32m    349\u001b[0m     \u001b[38;5;28;01mreturn\u001b[39;00m response\n",
      "File \u001b[1;32m~\\anaconda3\\Lib\\site-packages\\selenium\\webdriver\\remote\\errorhandler.py:229\u001b[0m, in \u001b[0;36mErrorHandler.check_response\u001b[1;34m(self, response)\u001b[0m\n\u001b[0;32m    227\u001b[0m         alert_text \u001b[38;5;241m=\u001b[39m value[\u001b[38;5;124m\"\u001b[39m\u001b[38;5;124malert\u001b[39m\u001b[38;5;124m\"\u001b[39m]\u001b[38;5;241m.\u001b[39mget(\u001b[38;5;124m\"\u001b[39m\u001b[38;5;124mtext\u001b[39m\u001b[38;5;124m\"\u001b[39m)\n\u001b[0;32m    228\u001b[0m     \u001b[38;5;28;01mraise\u001b[39;00m exception_class(message, screen, stacktrace, alert_text)  \u001b[38;5;66;03m# type: ignore[call-arg]  # mypy is not smart enough here\u001b[39;00m\n\u001b[1;32m--> 229\u001b[0m \u001b[38;5;28;01mraise\u001b[39;00m exception_class(message, screen, stacktrace)\n",
      "\u001b[1;31mInvalidSelectorException\u001b[0m: Message: invalid selector: An invalid or illegal selector was specified\n  (Session info: chrome=122.0.6261.112); For documentation on this error, please visit: https://www.selenium.dev/documentation/webdriver/troubleshooting/errors#invalid-selector-exception\nStacktrace:\n\tGetHandleVerifier [0x00007FF604E4AD02+56930]\n\t(No symbol) [0x00007FF604DBF602]\n\t(No symbol) [0x00007FF604C742E5]\n\t(No symbol) [0x00007FF604C79261]\n\t(No symbol) [0x00007FF604C7B6EB]\n\t(No symbol) [0x00007FF604C7B7B0]\n\t(No symbol) [0x00007FF604CB955C]\n\t(No symbol) [0x00007FF604CB9A2C]\n\t(No symbol) [0x00007FF604CFA997]\n\t(No symbol) [0x00007FF604CDBCDF]\n\t(No symbol) [0x00007FF604CF81E2]\n\t(No symbol) [0x00007FF604CDBA43]\n\t(No symbol) [0x00007FF604CAD438]\n\t(No symbol) [0x00007FF604CAE4D1]\n\tGetHandleVerifier [0x00007FF6051C6F8D+3711213]\n\tGetHandleVerifier [0x00007FF6052204CD+4077101]\n\tGetHandleVerifier [0x00007FF60521865F+4044735]\n\tGetHandleVerifier [0x00007FF604EE9736+706710]\n\t(No symbol) [0x00007FF604DCB8DF]\n\t(No symbol) [0x00007FF604DC6AC4]\n\t(No symbol) [0x00007FF604DC6C1C]\n\t(No symbol) [0x00007FF604DB68D4]\n\tBaseThreadInitThunk [0x00007FFE4C56257D+29]\n\tRtlUserThreadStart [0x00007FFE4DF0AA58+40]\n"
     ]
    }
   ],
   "source": [
    "Name_tags=driver.find_elements(By.CLASS_NAME,'//h3[@class=\"subheader\"]')\n",
    "for i in Name_tags:\n",
    "    Car_Name.append(i.text)\n",
    "    \n",
    "Price_tags=driver.find_elements(By.XPATH,'')\n",
    "for i in Price_tags:\n",
    "    Car_Price.append(i.text)"
   ]
  },
  {
   "cell_type": "code",
   "execution_count": 61,
   "id": "dc9a5a52",
   "metadata": {},
   "outputs": [
    {
     "name": "stdout",
     "output_type": "stream",
     "text": [
      "51 1\n"
     ]
    }
   ],
   "source": [
    "print(len(Car_Name),len(Car_Price))"
   ]
  },
  {
   "cell_type": "markdown",
   "id": "dfc22fe4",
   "metadata": {},
   "source": [
    "QUESTION 7"
   ]
  },
  {
   "cell_type": "code",
   "execution_count": 63,
   "id": "333a627b",
   "metadata": {},
   "outputs": [],
   "source": [
    "import pandas as pd\n",
    "import selenium\n",
    "from selenium import webdriver\n",
    "import warnings\n",
    "warnings.filterwarnings('ignore')\n",
    "from selenium.webdriver.common.by import By\n",
    "import time"
   ]
  },
  {
   "cell_type": "code",
   "execution_count": 64,
   "id": "cc8b2e8d",
   "metadata": {},
   "outputs": [],
   "source": [
    "driver=webdriver.Chrome()"
   ]
  },
  {
   "cell_type": "code",
   "execution_count": 65,
   "id": "852986d3",
   "metadata": {},
   "outputs": [],
   "source": [
    "driver.get('https://www.jagranjosh.com/general-knowledge/list-of-all-prime-ministers-of-india-1473165149-1')"
   ]
  },
  {
   "cell_type": "code",
   "execution_count": 69,
   "id": "e6ac3b38",
   "metadata": {},
   "outputs": [],
   "source": [
    "PM_Name=[]\n",
    "PM_Born_Dead=[]\n",
    "PM_Term_of_Office=[]\n",
    "PM_Remarks=[]"
   ]
  },
  {
   "cell_type": "code",
   "execution_count": null,
   "id": "718c156d",
   "metadata": {},
   "outputs": [],
   "source": [
    "Name_tags=driver.find_elements(By.XPATH,'//td[@valign=\"top\"]/div/strong/a[1]')\n",
    "for i in Name_tags:\n",
    "    PM_Name.append(i.text)\n",
    "\n",
    "Born_Dead_tags=driver.find_elements(By.XPATH,'')\n",
    "for i in Born_Dead_tags:\n",
    "    PM_Born_Dead.append(i.text)\n",
    "\n",
    "Term_of_Office_tags=driver.find_elements(By.XPATH,'')\n",
    "for i in Term_of_Office_tags:\n",
    "    PM_Term_of_Office.append(i.text)\n",
    "\n",
    "Remarks_tags=driver.find_elements(By.XPATH,'')\n",
    "for i in Remarks_tags:\n",
    "    PM_Remarks.append(i.text)"
   ]
  },
  {
   "cell_type": "markdown",
   "id": "7614debe",
   "metadata": {},
   "source": [
    "QUESTION 6"
   ]
  },
  {
   "cell_type": "code",
   "execution_count": 70,
   "id": "63d3de73",
   "metadata": {},
   "outputs": [],
   "source": [
    "import pandas as pd\n",
    "import selenium\n",
    "from selenium import webdriver\n",
    "import warnings\n",
    "warnings.filterwarnings('ignore')\n",
    "from selenium.webdriver.common.by import By\n",
    "import time"
   ]
  },
  {
   "cell_type": "code",
   "execution_count": 71,
   "id": "f4666ccb",
   "metadata": {},
   "outputs": [],
   "source": [
    "driver=webdriver.Chrome()"
   ]
  },
  {
   "cell_type": "code",
   "execution_count": 73,
   "id": "a4225076",
   "metadata": {},
   "outputs": [],
   "source": [
    "driver.get('https://www.azquotes.com/')"
   ]
  },
  {
   "cell_type": "code",
   "execution_count": 74,
   "id": "ad886080",
   "metadata": {},
   "outputs": [],
   "source": [
    "top_quotes=driver.find_element(By.XPATH,\"/html/body/div[1]/div[1]/div[1]/div/div[3]/ul/li[5]/a\")\n",
    "top_quotes.click()"
   ]
  },
  {
   "cell_type": "code",
   "execution_count": 75,
   "id": "7340549f",
   "metadata": {},
   "outputs": [],
   "source": [
    "Quote=[]\n",
    "Author=[]\n",
    "Type_of_Quote=[]"
   ]
  },
  {
   "cell_type": "code",
   "execution_count": 77,
   "id": "a26e2fbd",
   "metadata": {},
   "outputs": [],
   "source": [
    "start=0\n",
    "end=10\n",
    "for page in range(start,end):\n",
    "    Q_tags=driver.find_elements(By.XPATH,'//div[@class=\"wrap-block\"]/p/a[1]')\n",
    "    for i in Q_tags:\n",
    "        Quote.append(i.text)\n",
    "\n",
    "next_button=driver.find_element(By.XPATH,'/html/body/div[1]/div[2]/div/div/div/div[1]/div/div[4]/li[12]/a')\n",
    "next_button.click()\n",
    "time.sleep(10)\n",
    "\n",
    "start=0\n",
    "end=10\n",
    "for page in range(start,end):\n",
    "    A_tags=driver.find_elements(By.XPATH,'//div[@class=\"author\"]/a[1]')\n",
    "    for i in A_tags:\n",
    "        Author.append(i.text)\n",
    "    \n",
    "next_button=driver.find_element(By.XPATH,'/html/body/div[1]/div[2]/div/div/div/div[1]/div/div[4]/li[12]/a')\n",
    "next_button.click()\n",
    "time.sleep(3)\n",
    "\n",
    "start=0\n",
    "end=10\n",
    "for page in range(start,end):\n",
    "    TOQ_tags=driver.find_elements(By.XPATH,'//div[@class=\"tags\"]/a[1]')\n",
    "    for i in TOQ_tags:\n",
    "        Type_of_Quote.append(i.text)\n",
    "    \n",
    "next_button=driver.find_element(By.XPATH,'/html/body/div[1]/div[2]/div/div/div/div[1]/div/div[4]/li[12]/a')\n",
    "next_button.click()\n",
    "time.sleep(10)"
   ]
  },
  {
   "cell_type": "code",
   "execution_count": 78,
   "id": "7ef6d53f",
   "metadata": {},
   "outputs": [
    {
     "name": "stdout",
     "output_type": "stream",
     "text": [
      "1000 1000 1000\n"
     ]
    }
   ],
   "source": [
    "print(len(Quote),len(Author),len(Type_of_Quote))"
   ]
  },
  {
   "cell_type": "code",
   "execution_count": 83,
   "id": "3fb573dd",
   "metadata": {},
   "outputs": [
    {
     "data": {
      "text/html": [
       "<div>\n",
       "<style scoped>\n",
       "    .dataframe tbody tr th:only-of-type {\n",
       "        vertical-align: middle;\n",
       "    }\n",
       "\n",
       "    .dataframe tbody tr th {\n",
       "        vertical-align: top;\n",
       "    }\n",
       "\n",
       "    .dataframe thead th {\n",
       "        text-align: right;\n",
       "    }\n",
       "</style>\n",
       "<table border=\"1\" class=\"dataframe\">\n",
       "  <thead>\n",
       "    <tr style=\"text-align: right;\">\n",
       "      <th></th>\n",
       "      <th>QUOTE</th>\n",
       "      <th>AUTHOR</th>\n",
       "      <th>Type of Quote</th>\n",
       "    </tr>\n",
       "  </thead>\n",
       "  <tbody>\n",
       "    <tr>\n",
       "      <th>0</th>\n",
       "      <td></td>\n",
       "      <td>Neltje Blanchan</td>\n",
       "      <td>Inspirational</td>\n",
       "    </tr>\n",
       "    <tr>\n",
       "      <th>1</th>\n",
       "      <td></td>\n",
       "      <td>Saint Augustine</td>\n",
       "      <td>Peace</td>\n",
       "    </tr>\n",
       "    <tr>\n",
       "      <th>2</th>\n",
       "      <td></td>\n",
       "      <td>Henry Ford</td>\n",
       "      <td>Life</td>\n",
       "    </tr>\n",
       "    <tr>\n",
       "      <th>3</th>\n",
       "      <td></td>\n",
       "      <td>Arthur Rubinstein</td>\n",
       "      <td>Positive</td>\n",
       "    </tr>\n",
       "    <tr>\n",
       "      <th>4</th>\n",
       "      <td></td>\n",
       "      <td>George Mason</td>\n",
       "      <td>Inspirational</td>\n",
       "    </tr>\n",
       "    <tr>\n",
       "      <th>...</th>\n",
       "      <td>...</td>\n",
       "      <td>...</td>\n",
       "      <td>...</td>\n",
       "    </tr>\n",
       "    <tr>\n",
       "      <th>995</th>\n",
       "      <td></td>\n",
       "      <td>Jim Rohn</td>\n",
       "      <td>Love</td>\n",
       "    </tr>\n",
       "    <tr>\n",
       "      <th>996</th>\n",
       "      <td></td>\n",
       "      <td>Henry Ford</td>\n",
       "      <td>Gun</td>\n",
       "    </tr>\n",
       "    <tr>\n",
       "      <th>997</th>\n",
       "      <td></td>\n",
       "      <td>Robin Williams</td>\n",
       "      <td>Inspirational</td>\n",
       "    </tr>\n",
       "    <tr>\n",
       "      <th>998</th>\n",
       "      <td></td>\n",
       "      <td>Margaret Walker</td>\n",
       "      <td>Spiritual</td>\n",
       "    </tr>\n",
       "    <tr>\n",
       "      <th>999</th>\n",
       "      <td></td>\n",
       "      <td>T. Harv Eker</td>\n",
       "      <td>Inspirational</td>\n",
       "    </tr>\n",
       "  </tbody>\n",
       "</table>\n",
       "<p>1000 rows × 3 columns</p>\n",
       "</div>"
      ],
      "text/plain": [
       "    QUOTE             AUTHOR  Type of Quote\n",
       "0            Neltje Blanchan  Inspirational\n",
       "1            Saint Augustine          Peace\n",
       "2                 Henry Ford           Life\n",
       "3          Arthur Rubinstein       Positive\n",
       "4               George Mason  Inspirational\n",
       "..    ...                ...            ...\n",
       "995                 Jim Rohn           Love\n",
       "996               Henry Ford            Gun\n",
       "997           Robin Williams  Inspirational\n",
       "998          Margaret Walker      Spiritual\n",
       "999             T. Harv Eker  Inspirational\n",
       "\n",
       "[1000 rows x 3 columns]"
      ]
     },
     "execution_count": 83,
     "metadata": {},
     "output_type": "execute_result"
    }
   ],
   "source": [
    "df=pd.DataFrame({'QUOTE':Quote,'AUTHOR':Author,'Type of Quote':Type_of_Quote})\n",
    "df"
   ]
  },
  {
   "cell_type": "code",
   "execution_count": null,
   "id": "272b288b",
   "metadata": {},
   "outputs": [],
   "source": []
  },
  {
   "cell_type": "code",
   "execution_count": null,
   "id": "07820208",
   "metadata": {},
   "outputs": [],
   "source": []
  },
  {
   "cell_type": "code",
   "execution_count": null,
   "id": "a6b43b40",
   "metadata": {},
   "outputs": [],
   "source": []
  },
  {
   "cell_type": "code",
   "execution_count": null,
   "id": "9259fac9",
   "metadata": {},
   "outputs": [],
   "source": []
  },
  {
   "cell_type": "code",
   "execution_count": null,
   "id": "ca733a74",
   "metadata": {},
   "outputs": [],
   "source": []
  }
 ],
 "metadata": {
  "kernelspec": {
   "display_name": "Python 3 (ipykernel)",
   "language": "python",
   "name": "python3"
  },
  "language_info": {
   "codemirror_mode": {
    "name": "ipython",
    "version": 3
   },
   "file_extension": ".py",
   "mimetype": "text/x-python",
   "name": "python",
   "nbconvert_exporter": "python",
   "pygments_lexer": "ipython3",
   "version": "3.11.3"
  }
 },
 "nbformat": 4,
 "nbformat_minor": 5
}
